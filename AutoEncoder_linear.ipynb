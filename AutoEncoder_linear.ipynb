{
 "cells": [
  {
   "cell_type": "code",
   "execution_count": 1,
   "metadata": {},
   "outputs": [],
   "source": [
    "import numpy as np\n",
    "import pandas as pd\n",
    "from sklearn.model_selection import train_test_split\n",
    "from sklearn.metrics import accuracy_score\n",
    "import copy"
   ]
  },
  {
   "cell_type": "code",
   "execution_count": 2,
   "metadata": {},
   "outputs": [],
   "source": [
    "dataset = pd.read_csv('data.csv')\n",
    "# dataset"
   ]
  },
  {
   "cell_type": "code",
   "execution_count": 3,
   "metadata": {},
   "outputs": [],
   "source": [
    "X = dataset.drop('xAttack', axis = 1)\n",
    "Y = dataset['xAttack']"
   ]
  },
  {
   "cell_type": "code",
   "execution_count": 4,
   "metadata": {},
   "outputs": [
    {
     "data": {
      "text/plain": [
       "(125973, 29)"
      ]
     },
     "execution_count": 4,
     "metadata": {},
     "output_type": "execute_result"
    }
   ],
   "source": [
    "X = (X - np.mean(X))/np.std(X)\n",
    "X.shape"
   ]
  },
  {
   "cell_type": "code",
   "execution_count": 5,
   "metadata": {},
   "outputs": [],
   "source": [
    "X = X.iloc[:]\n",
    "# X_copy = copy.deepcopy(X_train)\n",
    "# Y_copy = copy.deepcopy(Y_train)\n",
    "# Y_train\n",
    "Y=pd.concat([Y,pd.get_dummies(Y,prefix='xAttack')],axis=1).drop(['xAttack'],axis=1)\n",
    "Y = Y.iloc[:]\n",
    "# X"
   ]
  },
  {
   "cell_type": "code",
   "execution_count": 6,
   "metadata": {},
   "outputs": [],
   "source": [
    "class Neural_network(object):\n",
    "    \n",
    "    def __init__(self):\n",
    "        self.input_layer_size = 29\n",
    "        self.output_layer_size = 29\n",
    "        self.hidden_layer_size = 14\n",
    "        self.hidden_layers = 1\n",
    "        self.weights = {}\n",
    "        self.dweights = {}\n",
    "        self.Z = {}\n",
    "        self.epoch = 50\n",
    "        self.ita = 0.0000001\n",
    "        self.a = {}\n",
    "        self.Y_hat = np.array([])\n",
    "        self.delta = {}\n",
    "        \n",
    "    def initialization(self):\n",
    "        \n",
    "        self.weights[1] = np.random.randn(self.input_layer_size,self.hidden_layer_size)*0.01\n",
    "        self.weights[self.hidden_layers+1] = np.random.randn(self.hidden_layer_size,self.output_layer_size)*0.01\n",
    "        \n",
    "        for i in np.arange(2,self.hidden_layers+1):\n",
    "            self.weights[i] = np.random.randn(self.hidden_layer_size,self.hidden_layer_size)*0.01\n",
    "            \n",
    "    \n",
    "    def softmax(self,a):\n",
    "        tsum = np.sum(a,axis = 1,keepdims = True)\n",
    "        return np.divide(a,tsum)\n",
    "    \n",
    "    \n",
    "    def error(self,y):\n",
    "#         return sum(0.5*np.sum((y-self.Y_hat)*(y-self.Y_hat),axis = 1))/y.shape[0]\n",
    "        return np.mean(0.5*np.sum((y-self.Y_hat)*(y-self.Y_hat),axis = 1))\n",
    "    \n",
    "    def derivative_sigmoid(self,layer):\n",
    "        l = np.ones(layer.shape)\n",
    "        return l\n",
    "    \n",
    "   \n",
    "    def deltas(self,y):\n",
    "        w = self.a[self.hidden_layers+2]\n",
    "        error = (y - self.Y_hat)\n",
    "        self.delta[self.hidden_layers+2] = -1 * error * self.derivative_sigmoid(w)\n",
    "        xx = self.a[self.hidden_layers+1].T\n",
    "        yy = self.delta[self.hidden_layers+2]\n",
    "        self.dweights[self.hidden_layers+1] = np.dot(xx , yy)\n",
    "        \n",
    "        for i in np.arange(self.hidden_layers+1,1,-1):\n",
    "            aa = self.delta[i+1]\n",
    "            bb = self.weights[i].T\n",
    "            deri = self.derivative_sigmoid(self.a[i])\n",
    "            self.delta[i] = ( np.dot(aa, bb))*deri\n",
    "            self.dweights[i-1] = np.dot(self.a[i-1].T , (self.delta[i]))  \n",
    "    \n",
    "    def sigmoid(self,x):\n",
    "        return x\n",
    "    \n",
    "    \n",
    "    \n",
    "    def forward_propagation(self, X):\n",
    "        self.a[1]=np.array(X)\n",
    "        \n",
    "        fg = 1\n",
    "        for i in range(1,self.hidden_layers+2):\n",
    "            if fg:\n",
    "                self.Z[i+1] = np.dot(self.a[i],self.weights[i])\n",
    "                self.a[i+1] = self.sigmoid(self.Z[i+1])\n",
    "        self.Y_hat = self.softmax(self.a[self.hidden_layers+2])\n",
    "        \n",
    "   \n",
    "    def gradient_descent(self,X_train,Y_train):\n",
    "\n",
    "        k = 0\n",
    "        while k <= 120000:\n",
    "            for i in range(self.epoch):\n",
    "                Y = Y_train[k:k+5000]\n",
    "                X = X_train[k:k+5000]\n",
    "                self.forward_propagation(X)\n",
    "                self.deltas(Y)\n",
    "                for j in range(1,self.hidden_layers+2):\n",
    "                    lrweights = self.ita*self.dweights[j]\n",
    "                    self.weights[j] = self.weights[j] - lrweights\n",
    "            print(\"Final Error : \",self.error(Y))\n",
    "            k = k + 5000\n",
    "\n",
    "        \n",
    "    def predict(self,X):\n",
    "        self.a[1] = np.array(X)\n",
    "        self.Z[1] = np.dot(self.a[1],self.weights[1])\n",
    "        return self.sigmoid(self.Z[1])\n",
    "    \n",
    "         "
   ]
  },
  {
   "cell_type": "code",
   "execution_count": 7,
   "metadata": {},
   "outputs": [
    {
     "name": "stdout",
     "output_type": "stream",
     "text": [
      "Final Error :  73.11487779093473\n",
      "Final Error :  397.24922652930974\n",
      "Final Error :  248.9995615410265\n",
      "Final Error :  286.48317244751064\n",
      "Final Error :  68.35844482528798\n",
      "Final Error :  2684.8053209272603\n",
      "Final Error :  72.82181627955558\n",
      "Final Error :  464.7101995531536\n",
      "Final Error :  110.16375773238867\n",
      "Final Error :  104.1281536405386\n",
      "Final Error :  455.2844020212336\n",
      "Final Error :  124.5819457378349\n",
      "Final Error :  100.07771272410334\n",
      "Final Error :  448.0201591089911\n",
      "Final Error :  58.762128070527034\n",
      "Final Error :  18.09212008607604\n",
      "Final Error :  24.933177885176182\n",
      "Final Error :  20.841434284322887\n",
      "Final Error :  31.49092893556872\n",
      "Final Error :  270.7632946651166\n",
      "Final Error :  162.21707814370734\n",
      "Final Error :  19.90798695845621\n",
      "Final Error :  18.809374287928037\n",
      "Final Error :  14.920796440756291\n",
      "Final Error :  41.148189116495125\n"
     ]
    }
   ],
   "source": [
    "k = Neural_network()\n",
    "k.initialization()\n",
    "k.gradient_descent(X,X)"
   ]
  },
  {
   "cell_type": "code",
   "execution_count": 8,
   "metadata": {},
   "outputs": [],
   "source": [
    "# X_test = X_test[0:1000]\n",
    "# Y_test = Y_test[0:1000]\n",
    "\n",
    "finaldata=k.predict(X)\n",
    "finaldata=pd.DataFrame(finaldata)\n",
    "df_final = pd.concat([finaldata,dataset['xAttack']],axis=1)\n",
    "# df_final"
   ]
  },
  {
   "cell_type": "code",
   "execution_count": 9,
   "metadata": {},
   "outputs": [],
   "source": [
    "df_final.to_csv(\"data_final.csv\",index=False)"
   ]
  }
 ],
 "metadata": {
  "kernelspec": {
   "display_name": "Python 3",
   "language": "python",
   "name": "python3"
  },
  "language_info": {
   "codemirror_mode": {
    "name": "ipython",
    "version": 3
   },
   "file_extension": ".py",
   "mimetype": "text/x-python",
   "name": "python",
   "nbconvert_exporter": "python",
   "pygments_lexer": "ipython3",
   "version": "3.6.7"
  }
 },
 "nbformat": 4,
 "nbformat_minor": 2
}
