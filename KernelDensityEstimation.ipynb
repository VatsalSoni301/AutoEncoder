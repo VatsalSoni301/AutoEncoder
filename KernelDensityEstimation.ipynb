{
 "cells": [
  {
   "cell_type": "code",
   "execution_count": 1,
   "metadata": {},
   "outputs": [],
   "source": [
    "from numpy import array\n",
    "from sklearn.decomposition import PCA\n",
    "import numpy as np\n",
    "import pandas as pd\n",
    "import copy\n",
    "from sklearn import datasets, svm, metrics\n",
    "from sklearn.preprocessing import StandardScaler\n",
    "from sklearn.neighbors.kde import KernelDensity\n",
    "from sklearn.model_selection import GridSearchCV"
   ]
  },
  {
   "cell_type": "code",
   "execution_count": 2,
   "metadata": {},
   "outputs": [],
   "source": [
    "df = datasets.load_digits()\n",
    "\n",
    "n_samples = len(df.images)\n",
    "data = df.images.reshape((n_samples, -1))"
   ]
  },
  {
   "cell_type": "code",
   "execution_count": 3,
   "metadata": {},
   "outputs": [],
   "source": [
    "data = StandardScaler().fit_transform(data)"
   ]
  },
  {
   "cell_type": "code",
   "execution_count": 4,
   "metadata": {},
   "outputs": [
    {
     "data": {
      "text/plain": [
       "array([[ 1.91421268, -0.95446326, -3.94597803, ...,  0.2270847 ,\n",
       "        -0.18576318,  0.85086833],\n",
       "       [ 0.58899556,  0.9246352 ,  3.92471272, ..., -0.06349237,\n",
       "        -0.41964128, -0.75812627],\n",
       "       [ 1.30202637, -0.31736119,  3.02339616, ..., -0.56171668,\n",
       "        -0.98497047, -1.18588212],\n",
       "       ...,\n",
       "       [ 1.02261311, -0.1479461 ,  2.47001308, ..., -0.37668514,\n",
       "         0.26389191,  0.31535996],\n",
       "       [ 1.07608383, -0.38107119, -2.45508471, ...,  0.17610614,\n",
       "        -0.70931311,  0.01871991],\n",
       "       [-1.25766504, -2.22783463,  0.28401661, ...,  0.10179043,\n",
       "         0.79205245,  1.81907404]])"
      ]
     },
     "execution_count": 4,
     "metadata": {},
     "output_type": "execute_result"
    }
   ],
   "source": [
    "sklearn_pca = PCA(n_components=15)\n",
    "Y_sklearn = sklearn_pca.fit_transform(data)\n",
    "Y_sklearn"
   ]
  },
  {
   "cell_type": "code",
   "execution_count": 5,
   "metadata": {},
   "outputs": [
    {
     "name": "stderr",
     "output_type": "stream",
     "text": [
      "/home/vatsal/.local/lib/python3.6/site-packages/sklearn/model_selection/_search.py:841: DeprecationWarning: The default of the `iid` parameter will change from True to False in version 0.22 and will be removed in 0.24. This will change numeric results when test-set sizes are unequal.\n",
      "  DeprecationWarning)\n"
     ]
    },
    {
     "data": {
      "text/plain": [
       "GridSearchCV(cv=5, error_score='raise-deprecating',\n",
       "       estimator=KernelDensity(algorithm='auto', atol=0, bandwidth=1.0, breadth_first=True,\n",
       "       kernel='gaussian', leaf_size=40, metric='euclidean',\n",
       "       metric_params=None, rtol=0),\n",
       "       fit_params=None, iid='warn', n_jobs=None,\n",
       "       param_grid={'bandwidth': array([ 0.1    ,  0.13895,  0.19307,  0.26827,  0.37276,  0.51795,\n",
       "        0.71969,  1.     ,  1.3895 ,  1.9307 ,  2.6827 ,  3.72759,\n",
       "        5.17947,  7.19686, 10.     ])},\n",
       "       pre_dispatch='2*n_jobs', refit=True, return_train_score='warn',\n",
       "       scoring=None, verbose=0)"
      ]
     },
     "execution_count": 5,
     "metadata": {},
     "output_type": "execute_result"
    }
   ],
   "source": [
    "params = {'bandwidth': np.logspace(-1, 1, 15)}\n",
    "grid = GridSearchCV(KernelDensity(), params, cv=5)\n",
    "grid.fit(Y_sklearn)"
   ]
  },
  {
   "cell_type": "code",
   "execution_count": 6,
   "metadata": {},
   "outputs": [
    {
     "data": {
      "text/plain": [
       "0.7196856730011519"
      ]
     },
     "execution_count": 6,
     "metadata": {},
     "output_type": "execute_result"
    }
   ],
   "source": [
    "bd = grid.best_estimator_.bandwidth\n",
    "bd"
   ]
  },
  {
   "cell_type": "code",
   "execution_count": 7,
   "metadata": {},
   "outputs": [
    {
     "data": {
      "text/plain": [
       "array([-15.78347172, -16.29329791, -16.24791613, ..., -16.28373017,\n",
       "       -16.24451652, -16.34227384])"
      ]
     },
     "execution_count": 7,
     "metadata": {},
     "output_type": "execute_result"
    }
   ],
   "source": [
    "kde = KernelDensity(kernel='gaussian', bandwidth=bd).fit(Y_sklearn)\n",
    "kde.score_samples(Y_sklearn)"
   ]
  },
  {
   "cell_type": "code",
   "execution_count": 8,
   "metadata": {},
   "outputs": [
    {
     "data": {
      "text/plain": [
       "array([[ 1.91421538, -0.95449607, -3.94602902, ..., -0.41187793,\n",
       "         0.72949819,  0.22694169],\n",
       "       [ 0.58897953,  0.92463663,  3.92475237, ...,  0.77132557,\n",
       "         0.08455399, -1.4638698 ],\n",
       "       [ 1.30204105, -0.3171907 ,  3.02333523, ..., -0.41366121,\n",
       "        -0.22068583,  0.27878748],\n",
       "       ...,\n",
       "       [ 1.02259812, -0.14790801,  2.46998165, ..., -0.21746647,\n",
       "        -1.28483745, -0.1517288 ],\n",
       "       [ 1.07605618, -0.38090445, -2.45548295, ..., -0.91326423,\n",
       "         1.10166808, -0.71223414],\n",
       "       [-1.25770158, -2.22759328,  0.28362397, ..., -0.95994278,\n",
       "        -0.46785563, -0.32655038]])"
      ]
     },
     "execution_count": 8,
     "metadata": {},
     "output_type": "execute_result"
    }
   ],
   "source": [
    "sklearn_pca = PCA(n_components=27)\n",
    "Y_sklearn1 = sklearn_pca.fit_transform(data)\n",
    "Y_sklearn1"
   ]
  },
  {
   "cell_type": "code",
   "execution_count": 9,
   "metadata": {},
   "outputs": [
    {
     "name": "stderr",
     "output_type": "stream",
     "text": [
      "/home/vatsal/.local/lib/python3.6/site-packages/sklearn/model_selection/_search.py:841: DeprecationWarning: The default of the `iid` parameter will change from True to False in version 0.22 and will be removed in 0.24. This will change numeric results when test-set sizes are unequal.\n",
      "  DeprecationWarning)\n"
     ]
    },
    {
     "data": {
      "text/plain": [
       "GridSearchCV(cv=5, error_score='raise-deprecating',\n",
       "       estimator=KernelDensity(algorithm='auto', atol=0, bandwidth=1.0, breadth_first=True,\n",
       "       kernel='gaussian', leaf_size=40, metric='euclidean',\n",
       "       metric_params=None, rtol=0),\n",
       "       fit_params=None, iid='warn', n_jobs=None,\n",
       "       param_grid={'bandwidth': array([ 0.1    ,  0.11938,  0.14251,  0.17013,  0.20309,  0.24245,\n",
       "        0.28943,  0.34551,  0.41246,  0.49239,  0.5878 ,  0.7017 ,\n",
       "        0.83768,  1.     ,  1.19378,  1.4251 ,  1.70125,  2.03092,\n",
       "        2.42446,  2.89427,  3.45511,  4.12463,  4.92388,  5.87802,\n",
       "        7.01704,  8.37678, 10.     ])},\n",
       "       pre_dispatch='2*n_jobs', refit=True, return_train_score='warn',\n",
       "       scoring=None, verbose=0)"
      ]
     },
     "execution_count": 9,
     "metadata": {},
     "output_type": "execute_result"
    }
   ],
   "source": [
    "params = {'bandwidth': np.logspace(-1, 1, 27)}\n",
    "grid = GridSearchCV(KernelDensity(), params, cv=5)\n",
    "grid.fit(Y_sklearn1)"
   ]
  },
  {
   "cell_type": "code",
   "execution_count": 10,
   "metadata": {},
   "outputs": [
    {
     "data": {
      "text/plain": [
       "0.837677640068292"
      ]
     },
     "execution_count": 10,
     "metadata": {},
     "output_type": "execute_result"
    }
   ],
   "source": [
    "bd = grid.best_estimator_.bandwidth\n",
    "bd"
   ]
  },
  {
   "cell_type": "code",
   "execution_count": 11,
   "metadata": {},
   "outputs": [
    {
     "data": {
      "text/plain": [
       "array([-27.22632308, -27.49520003, -27.52019775, ..., -27.51466409,\n",
       "       -27.49779037, -27.5228788 ])"
      ]
     },
     "execution_count": 11,
     "metadata": {},
     "output_type": "execute_result"
    }
   ],
   "source": [
    "kde = KernelDensity(kernel='gaussian', bandwidth=bd).fit(Y_sklearn1)\n",
    "kde.score_samples(Y_sklearn1)"
   ]
  },
  {
   "cell_type": "code",
   "execution_count": 12,
   "metadata": {},
   "outputs": [
    {
     "data": {
      "text/plain": [
       "array([[ 1.91421366, -0.95450149, -3.94603471, ...,  0.07524922,\n",
       "         0.82043806,  0.0222785 ],\n",
       "       [ 0.58898036,  0.92463592,  3.92475534, ..., -0.26412691,\n",
       "         0.23169885,  0.08621548],\n",
       "       [ 1.30203908, -0.31718875,  3.02333325, ...,  0.39128097,\n",
       "        -0.17595877, -1.28049752],\n",
       "       ...,\n",
       "       [ 1.02259599, -0.14791076,  2.46997348, ..., -0.54518407,\n",
       "         0.59788196,  0.41532907],\n",
       "       [ 1.07605524, -0.38090618, -2.45548665, ...,  0.41908543,\n",
       "         0.46750883, -0.6974593 ],\n",
       "       [-1.25770231, -2.22759082,  0.28362784, ..., -0.26507612,\n",
       "        -0.38229623,  0.13165642]])"
      ]
     },
     "execution_count": 12,
     "metadata": {},
     "output_type": "execute_result"
    }
   ],
   "source": [
    "sklearn_pca = PCA(n_components=39)\n",
    "Y_sklearn2 = sklearn_pca.fit_transform(data)\n",
    "Y_sklearn2"
   ]
  },
  {
   "cell_type": "code",
   "execution_count": 13,
   "metadata": {},
   "outputs": [
    {
     "name": "stderr",
     "output_type": "stream",
     "text": [
      "/home/vatsal/.local/lib/python3.6/site-packages/sklearn/model_selection/_search.py:841: DeprecationWarning: The default of the `iid` parameter will change from True to False in version 0.22 and will be removed in 0.24. This will change numeric results when test-set sizes are unequal.\n",
      "  DeprecationWarning)\n"
     ]
    },
    {
     "data": {
      "text/plain": [
       "GridSearchCV(cv=5, error_score='raise-deprecating',\n",
       "       estimator=KernelDensity(algorithm='auto', atol=0, bandwidth=1.0, breadth_first=True,\n",
       "       kernel='gaussian', leaf_size=40, metric='euclidean',\n",
       "       metric_params=None, rtol=0),\n",
       "       fit_params=None, iid='warn', n_jobs=None,\n",
       "       param_grid={'bandwidth': array([ 0.1    ,  0.11288,  0.12743,  0.14384,  0.16238,  0.1833 ,\n",
       "        0.20691,  0.23357,  0.26367,  0.29764,  0.33598,  0.37927,\n",
       "        0.42813,  0.48329,  0.54556,  0.61585,  0.69519,  0.78476,\n",
       "        0.88587,  1.     ,  1.12884,  1.27427,  1.43845,  1.62378,\n",
       "        1.83298,  2.06914,  2.33572,  2.63665,  2.97635,  3.35982,\n",
       "        3.79269,  4.28133,  4.83293,  5.45559,  6.15848,  6.95193,\n",
       "        7.8476 ,  8.85867, 10.     ])},\n",
       "       pre_dispatch='2*n_jobs', refit=True, return_train_score='warn',\n",
       "       scoring=None, verbose=0)"
      ]
     },
     "execution_count": 13,
     "metadata": {},
     "output_type": "execute_result"
    }
   ],
   "source": [
    "params = {'bandwidth': np.logspace(-1, 1, 39)}\n",
    "grid = GridSearchCV(KernelDensity(), params, cv=5)\n",
    "grid.fit(Y_sklearn2)"
   ]
  },
  {
   "cell_type": "code",
   "execution_count": 14,
   "metadata": {},
   "outputs": [
    {
     "data": {
      "text/plain": [
       "0.7847599703514611"
      ]
     },
     "execution_count": 14,
     "metadata": {},
     "output_type": "execute_result"
    }
   ],
   "source": [
    "bd = grid.best_estimator_.bandwidth\n",
    "bd"
   ]
  },
  {
   "cell_type": "code",
   "execution_count": 15,
   "metadata": {},
   "outputs": [
    {
     "data": {
      "text/plain": [
       "array([-33.80994031, -33.87678757, -33.87951152, ..., -33.87959284,\n",
       "       -33.87922554, -33.87975509])"
      ]
     },
     "execution_count": 15,
     "metadata": {},
     "output_type": "execute_result"
    }
   ],
   "source": [
    "kde = KernelDensity(kernel='gaussian', bandwidth=bd).fit(Y_sklearn2)\n",
    "kde.score_samples(Y_sklearn2)"
   ]
  }
 ],
 "metadata": {
  "kernelspec": {
   "display_name": "Python 3",
   "language": "python",
   "name": "python3"
  },
  "language_info": {
   "codemirror_mode": {
    "name": "ipython",
    "version": 3
   },
   "file_extension": ".py",
   "mimetype": "text/x-python",
   "name": "python",
   "nbconvert_exporter": "python",
   "pygments_lexer": "ipython3",
   "version": "3.6.7"
  }
 },
 "nbformat": 4,
 "nbformat_minor": 2
}
