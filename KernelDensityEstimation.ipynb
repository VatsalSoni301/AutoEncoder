{
 "cells": [
  {
   "cell_type": "code",
   "execution_count": 1,
   "metadata": {},
   "outputs": [],
   "source": [
    "from numpy import array\n",
    "from sklearn.decomposition import PCA\n",
    "import numpy as np\n",
    "import pandas as pd\n",
    "import copy\n",
    "from sklearn import datasets, svm, metrics\n",
    "from sklearn.preprocessing import StandardScaler\n",
    "from sklearn.neighbors.kde import KernelDensity\n",
    "from sklearn.model_selection import GridSearchCV"
   ]
  },
  {
   "cell_type": "code",
   "execution_count": 2,
   "metadata": {},
   "outputs": [],
   "source": [
    "df = datasets.load_digits()\n",
    "\n",
    "n_samples = len(df.images)\n",
    "data = df.images.reshape((n_samples, -1))"
   ]
  },
  {
   "cell_type": "code",
   "execution_count": 3,
   "metadata": {},
   "outputs": [],
   "source": [
    "data = StandardScaler().fit_transform(data)"
   ]
  },
  {
   "cell_type": "code",
   "execution_count": 4,
   "metadata": {},
   "outputs": [
    {
     "data": {
      "text/plain": [
       "array([[ 1.91422009, -0.95444007, -3.9459807 , ...,  0.23620658,\n",
       "        -0.19339795,  0.82403883],\n",
       "       [ 0.58896824,  0.9246316 ,  3.92487033, ..., -0.02830186,\n",
       "        -0.36631772, -0.72666955],\n",
       "       [ 1.30204767, -0.31719626,  3.02335922, ..., -0.55300291,\n",
       "        -1.00207472, -1.17342377],\n",
       "       ...,\n",
       "       [ 1.02257938, -0.14795366,  2.4698685 , ..., -0.43469741,\n",
       "         0.25093916,  0.30823687],\n",
       "       [ 1.07605965, -0.3809794 , -2.45563904, ...,  0.14228985,\n",
       "        -0.78123942,  0.02735016],\n",
       "       [-1.2577206 , -2.22760256,  0.28362494, ...,  0.08391564,\n",
       "         0.75610155,  1.81990025]])"
      ]
     },
     "execution_count": 4,
     "metadata": {},
     "output_type": "execute_result"
    }
   ],
   "source": [
    "sklearn_pca = PCA(n_components=15)\n",
    "Y_sklearn = sklearn_pca.fit_transform(data)\n",
    "Y_sklearn"
   ]
  },
  {
   "cell_type": "code",
   "execution_count": 5,
   "metadata": {},
   "outputs": [
    {
     "name": "stderr",
     "output_type": "stream",
     "text": [
      "/home/vatsal/.local/lib/python3.6/site-packages/sklearn/model_selection/_search.py:841: DeprecationWarning: The default of the `iid` parameter will change from True to False in version 0.22 and will be removed in 0.24. This will change numeric results when test-set sizes are unequal.\n",
      "  DeprecationWarning)\n"
     ]
    },
    {
     "data": {
      "text/plain": [
       "GridSearchCV(cv=5, error_score='raise-deprecating',\n",
       "       estimator=KernelDensity(algorithm='auto', atol=0, bandwidth=1.0, breadth_first=True,\n",
       "       kernel='gaussian', leaf_size=40, metric='euclidean',\n",
       "       metric_params=None, rtol=0),\n",
       "       fit_params=None, iid='warn', n_jobs=None,\n",
       "       param_grid={'bandwidth': array([ 0.1    ,  0.13895,  0.19307,  0.26827,  0.37276,  0.51795,\n",
       "        0.71969,  1.     ,  1.3895 ,  1.9307 ,  2.6827 ,  3.72759,\n",
       "        5.17947,  7.19686, 10.     ])},\n",
       "       pre_dispatch='2*n_jobs', refit=True, return_train_score='warn',\n",
       "       scoring=None, verbose=0)"
      ]
     },
     "execution_count": 5,
     "metadata": {},
     "output_type": "execute_result"
    }
   ],
   "source": [
    "params = {'bandwidth': np.logspace(-1, 1, 15)}\n",
    "grid = GridSearchCV(KernelDensity(), params, cv=5)\n",
    "grid.fit(Y_sklearn)"
   ]
  },
  {
   "cell_type": "code",
   "execution_count": 6,
   "metadata": {},
   "outputs": [
    {
     "data": {
      "text/plain": [
       "0.7196856730011519"
      ]
     },
     "execution_count": 6,
     "metadata": {},
     "output_type": "execute_result"
    }
   ],
   "source": [
    "bd = grid.best_estimator_.bandwidth\n",
    "bd"
   ]
  },
  {
   "cell_type": "code",
   "execution_count": 7,
   "metadata": {},
   "outputs": [
    {
     "data": {
      "text/plain": [
       "array([-15.78233836, -16.29133014, -16.24878752, ..., -16.28829295,\n",
       "       -16.24562826, -16.34223206])"
      ]
     },
     "execution_count": 7,
     "metadata": {},
     "output_type": "execute_result"
    }
   ],
   "source": [
    "kde = KernelDensity(kernel='gaussian', bandwidth=bd).fit(Y_sklearn)\n",
    "kde.score_samples(Y_sklearn)"
   ]
  },
  {
   "cell_type": "code",
   "execution_count": 8,
   "metadata": {},
   "outputs": [
    {
     "data": {
      "text/plain": [
       "array([[ 1.91421505, -0.95449942, -3.94603215, ..., -0.45738558,\n",
       "         0.71766194,  0.29706641],\n",
       "       [ 0.58897887,  0.92463728,  3.92475176, ...,  0.78957752,\n",
       "         0.10717804, -1.63050517],\n",
       "       [ 1.30203693, -0.31718271,  3.02333512, ..., -0.37984285,\n",
       "        -0.01163672,  0.32240649],\n",
       "       ...,\n",
       "       [ 1.02259945, -0.14791535,  2.4699785 , ..., -0.22886031,\n",
       "        -1.46667557,  0.07016196],\n",
       "       [ 1.07605278, -0.38089564, -2.45548897, ..., -0.91268582,\n",
       "         1.23684394, -0.7730256 ],\n",
       "       [-1.25769771, -2.22759585,  0.28364642, ..., -0.91176624,\n",
       "        -0.64108908, -0.13477871]])"
      ]
     },
     "execution_count": 8,
     "metadata": {},
     "output_type": "execute_result"
    }
   ],
   "source": [
    "sklearn_pca = PCA(n_components=27)\n",
    "Y_sklearn1 = sklearn_pca.fit_transform(data)\n",
    "Y_sklearn1"
   ]
  },
  {
   "cell_type": "code",
   "execution_count": 9,
   "metadata": {},
   "outputs": [
    {
     "name": "stderr",
     "output_type": "stream",
     "text": [
      "/home/vatsal/.local/lib/python3.6/site-packages/sklearn/model_selection/_search.py:841: DeprecationWarning: The default of the `iid` parameter will change from True to False in version 0.22 and will be removed in 0.24. This will change numeric results when test-set sizes are unequal.\n",
      "  DeprecationWarning)\n"
     ]
    },
    {
     "data": {
      "text/plain": [
       "GridSearchCV(cv=5, error_score='raise-deprecating',\n",
       "       estimator=KernelDensity(algorithm='auto', atol=0, bandwidth=1.0, breadth_first=True,\n",
       "       kernel='gaussian', leaf_size=40, metric='euclidean',\n",
       "       metric_params=None, rtol=0),\n",
       "       fit_params=None, iid='warn', n_jobs=None,\n",
       "       param_grid={'bandwidth': array([ 0.1    ,  0.11938,  0.14251,  0.17013,  0.20309,  0.24245,\n",
       "        0.28943,  0.34551,  0.41246,  0.49239,  0.5878 ,  0.7017 ,\n",
       "        0.83768,  1.     ,  1.19378,  1.4251 ,  1.70125,  2.03092,\n",
       "        2.42446,  2.89427,  3.45511,  4.12463,  4.92388,  5.87802,\n",
       "        7.01704,  8.37678, 10.     ])},\n",
       "       pre_dispatch='2*n_jobs', refit=True, return_train_score='warn',\n",
       "       scoring=None, verbose=0)"
      ]
     },
     "execution_count": 9,
     "metadata": {},
     "output_type": "execute_result"
    }
   ],
   "source": [
    "params = {'bandwidth': np.logspace(-1, 1, 27)}\n",
    "grid = GridSearchCV(KernelDensity(), params, cv=5)\n",
    "grid.fit(Y_sklearn1)"
   ]
  },
  {
   "cell_type": "code",
   "execution_count": 10,
   "metadata": {},
   "outputs": [
    {
     "data": {
      "text/plain": [
       "0.701703828670383"
      ]
     },
     "execution_count": 10,
     "metadata": {},
     "output_type": "execute_result"
    }
   ],
   "source": [
    "bd = grid.best_estimator_.bandwidth\n",
    "bd"
   ]
  },
  {
   "cell_type": "code",
   "execution_count": 11,
   "metadata": {},
   "outputs": [
    {
     "data": {
      "text/plain": [
       "array([-22.64152803, -22.73689488, -22.74039999, ..., -22.74025106,\n",
       "       -22.73638313, -22.74062944])"
      ]
     },
     "execution_count": 11,
     "metadata": {},
     "output_type": "execute_result"
    }
   ],
   "source": [
    "kde = KernelDensity(kernel='gaussian', bandwidth=bd).fit(Y_sklearn1)\n",
    "kde.score_samples(Y_sklearn1)"
   ]
  },
  {
   "cell_type": "code",
   "execution_count": 12,
   "metadata": {},
   "outputs": [
    {
     "data": {
      "text/plain": [
       "array([[ 1.91421369, -0.9545015 , -3.94603468, ...,  0.08407313,\n",
       "         0.80473712,  0.02122761],\n",
       "       [ 0.58898036,  0.92463559,  3.92475531, ..., -0.21940288,\n",
       "         0.19595015,  0.10859576],\n",
       "       [ 1.30203906, -0.31718905,  3.02333314, ...,  0.42558691,\n",
       "        -0.22225561, -1.29563426],\n",
       "       ...,\n",
       "       [ 1.02259599, -0.14791104,  2.46997386, ..., -0.53595878,\n",
       "         0.59584087,  0.39344378],\n",
       "       [ 1.07605519, -0.38090642, -2.45548685, ...,  0.44398046,\n",
       "         0.44097064, -0.68788469],\n",
       "       [-1.25770233, -2.22759097,  0.28362798, ..., -0.26045873,\n",
       "        -0.37938511,  0.12263919]])"
      ]
     },
     "execution_count": 12,
     "metadata": {},
     "output_type": "execute_result"
    }
   ],
   "source": [
    "sklearn_pca = PCA(n_components=39)\n",
    "Y_sklearn2 = sklearn_pca.fit_transform(data)\n",
    "Y_sklearn2"
   ]
  },
  {
   "cell_type": "code",
   "execution_count": 13,
   "metadata": {},
   "outputs": [
    {
     "name": "stderr",
     "output_type": "stream",
     "text": [
      "/home/vatsal/.local/lib/python3.6/site-packages/sklearn/model_selection/_search.py:841: DeprecationWarning: The default of the `iid` parameter will change from True to False in version 0.22 and will be removed in 0.24. This will change numeric results when test-set sizes are unequal.\n",
      "  DeprecationWarning)\n"
     ]
    },
    {
     "data": {
      "text/plain": [
       "GridSearchCV(cv=5, error_score='raise-deprecating',\n",
       "       estimator=KernelDensity(algorithm='auto', atol=0, bandwidth=1.0, breadth_first=True,\n",
       "       kernel='gaussian', leaf_size=40, metric='euclidean',\n",
       "       metric_params=None, rtol=0),\n",
       "       fit_params=None, iid='warn', n_jobs=None,\n",
       "       param_grid={'bandwidth': array([ 0.1    ,  0.11288,  0.12743,  0.14384,  0.16238,  0.1833 ,\n",
       "        0.20691,  0.23357,  0.26367,  0.29764,  0.33598,  0.37927,\n",
       "        0.42813,  0.48329,  0.54556,  0.61585,  0.69519,  0.78476,\n",
       "        0.88587,  1.     ,  1.12884,  1.27427,  1.43845,  1.62378,\n",
       "        1.83298,  2.06914,  2.33572,  2.63665,  2.97635,  3.35982,\n",
       "        3.79269,  4.28133,  4.83293,  5.45559,  6.15848,  6.95193,\n",
       "        7.8476 ,  8.85867, 10.     ])},\n",
       "       pre_dispatch='2*n_jobs', refit=True, return_train_score='warn',\n",
       "       scoring=None, verbose=0)"
      ]
     },
     "execution_count": 13,
     "metadata": {},
     "output_type": "execute_result"
    }
   ],
   "source": [
    "params = {'bandwidth': np.logspace(-1, 1, 39)}\n",
    "grid = GridSearchCV(KernelDensity(), params, cv=5)\n",
    "grid.fit(Y_sklearn2)"
   ]
  },
  {
   "cell_type": "code",
   "execution_count": 14,
   "metadata": {},
   "outputs": [
    {
     "data": {
      "text/plain": [
       "0.6951927961775606"
      ]
     },
     "execution_count": 14,
     "metadata": {},
     "output_type": "execute_result"
    }
   ],
   "source": [
    "bd = grid.best_estimator_.bandwidth\n",
    "bd"
   ]
  },
  {
   "cell_type": "code",
   "execution_count": 15,
   "metadata": {},
   "outputs": [
    {
     "data": {
      "text/plain": [
       "array([-29.12544547, -29.15285875, -29.15337458, ..., -29.15338941,\n",
       "       -29.15333299, -29.15339993])"
      ]
     },
     "execution_count": 15,
     "metadata": {},
     "output_type": "execute_result"
    }
   ],
   "source": [
    "kde = KernelDensity(kernel='gaussian', bandwidth=bd).fit(Y_sklearn2)\n",
    "kde.score_samples(Y_sklearn2)"
   ]
  }
 ],
 "metadata": {
  "kernelspec": {
   "display_name": "Python 3",
   "language": "python",
   "name": "python3"
  },
  "language_info": {
   "codemirror_mode": {
    "name": "ipython",
    "version": 3
   },
   "file_extension": ".py",
   "mimetype": "text/x-python",
   "name": "python",
   "nbconvert_exporter": "python",
   "pygments_lexer": "ipython3",
   "version": "3.6.7"
  }
 },
 "nbformat": 4,
 "nbformat_minor": 2
}
