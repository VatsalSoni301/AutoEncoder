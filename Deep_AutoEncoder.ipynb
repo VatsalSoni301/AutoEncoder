{
 "cells": [
  {
   "cell_type": "code",
   "execution_count": 1,
   "metadata": {},
   "outputs": [],
   "source": [
    "import numpy as np\n",
    "import pandas as pd\n",
    "from sklearn.model_selection import train_test_split\n",
    "from sklearn.metrics import accuracy_score\n",
    "import copy"
   ]
  },
  {
   "cell_type": "code",
   "execution_count": 2,
   "metadata": {},
   "outputs": [],
   "source": [
    "dataset = pd.read_csv('data.csv')\n",
    "# dataset"
   ]
  },
  {
   "cell_type": "code",
   "execution_count": 3,
   "metadata": {},
   "outputs": [],
   "source": [
    "X = dataset.drop('xAttack', axis = 1)\n",
    "Y = dataset['xAttack']"
   ]
  },
  {
   "cell_type": "code",
   "execution_count": 4,
   "metadata": {},
   "outputs": [
    {
     "data": {
      "text/plain": [
       "(125973, 29)"
      ]
     },
     "execution_count": 4,
     "metadata": {},
     "output_type": "execute_result"
    }
   ],
   "source": [
    "X = (X - np.mean(X))/np.std(X)\n",
    "X.shape"
   ]
  },
  {
   "cell_type": "code",
   "execution_count": 5,
   "metadata": {},
   "outputs": [],
   "source": [
    "X = X.iloc[:]\n",
    "# X_copy = copy.deepcopy(X_train)\n",
    "# Y_copy = copy.deepcopy(Y_train)\n",
    "# Y_train\n",
    "Y=pd.concat([Y,pd.get_dummies(Y,prefix='xAttack')],axis=1).drop(['xAttack'],axis=1)\n",
    "Y = Y.iloc[:]\n",
    "# X"
   ]
  },
  {
   "cell_type": "code",
   "execution_count": 6,
   "metadata": {},
   "outputs": [],
   "source": [
    "class Neural_network(object):\n",
    "    \n",
    "    def __init__(self):\n",
    "        self.input_layer_size = 29\n",
    "        self.output_layer_size = 29\n",
    "        self.hidden_layer_size1 = 70\n",
    "        self.bottleneck_layer_size = 14\n",
    "        self.hidden_layer_size2 = 70\n",
    "        self.hidden_layers = 2\n",
    "        self.weights = {}\n",
    "        self.dweights = {}\n",
    "        self.Z = {}\n",
    "        self.epoch = 50\n",
    "        self.ita = 0.001\n",
    "        self.a = {}\n",
    "        self.Y_hat = np.array([])\n",
    "        self.delta = {}\n",
    "        \n",
    "    def initialization(self):\n",
    "        \n",
    "        self.weights[0] = np.random.randn(self.input_layer_size,self.hidden_layer_size1)*0.01\n",
    "        self.weights[1] = np.random.randn(self.hidden_layer_size1,self.bottleneck_layer_size)*0.01\n",
    "        self.weights[2] = np.random.randn(self.bottleneck_layer_size,self.hidden_layer_size2)*0.01\n",
    "        self.weights[3] = np.random.randn(self.hidden_layer_size2,self.output_layer_size)*0.01\n",
    "            \n",
    "    \n",
    "    def softmax(self,a):\n",
    "        tsum = np.sum(a,axis = 1,keepdims = True)\n",
    "        return np.divide(a,tsum)\n",
    "    \n",
    "    \n",
    "    def error(self,y):\n",
    "#         return sum(0.5*np.sum((y-self.Y_hat)*(y-self.Y_hat),axis = 1))/y.shape[0]\n",
    "        return np.mean(0.5*np.sum((y-self.Y_hat)*(y-self.Y_hat),axis = 1))\n",
    "    \n",
    "    def derivative_sigmoid(self,layer):\n",
    "        derivative = layer*(1-layer)\n",
    "        return derivative\n",
    "    \n",
    "   \n",
    "    def deltas(self,y):\n",
    "        w = self.a[4]\n",
    "        error = (y - self.Y_hat)\n",
    "        self.delta[4] = -1 * error * self.derivative_sigmoid(w)\n",
    "        xx = self.a[3].T\n",
    "        yy = self.delta[4]\n",
    "        self.dweights[3] = np.dot(xx , yy)\n",
    "        \n",
    "        for i in np.arange(3,0,-1):\n",
    "            aa = self.delta[i+1]\n",
    "            bb = self.weights[i].T\n",
    "            deri = self.derivative_sigmoid(self.a[i])\n",
    "            self.delta[i] = ( np.dot(aa, bb))*deri\n",
    "            self.dweights[i-1] = np.dot(self.a[i-1].T , (self.delta[i]))  \n",
    "    \n",
    "    def sigmoid(self,x):\n",
    "        x = -x\n",
    "        return 1 / (1 + np.exp(x))\n",
    "    \n",
    "    \n",
    "    \n",
    "    def forward_propagation(self, X):\n",
    "        self.a[0]=np.array(X)\n",
    "        self.Z[0] = np.dot(self.a[0],self.weights[0])\n",
    "        self.a[1] = self.sigmoid(self.Z[0])\n",
    "        \n",
    "        self.Z[1] = np.dot(self.a[1],self.weights[1])\n",
    "        self.a[2] = self.sigmoid(self.Z[1])\n",
    "        \n",
    "        self.Z[2] = np.dot(self.a[2],self.weights[2])\n",
    "        self.a[3] = self.sigmoid(self.Z[2])\n",
    "        \n",
    "        self.Z[3] = np.dot(self.a[3],self.weights[3])\n",
    "        self.a[4] = self.sigmoid(self.Z[3])\n",
    "        \n",
    "        self.Y_hat = self.softmax(self.a[4])\n",
    "        \n",
    "   \n",
    "    def gradient_descent(self,X_train,Y_train):\n",
    "\n",
    "        k = 0\n",
    "        while k <= 120000:\n",
    "            for i in range(self.epoch):\n",
    "                Y = Y_train[k:k+5000]\n",
    "                X = X_train[k:k+5000]\n",
    "                self.forward_propagation(X)\n",
    "                self.deltas(Y)\n",
    "                for j in range(0,4):\n",
    "                    lrweights = self.ita*self.dweights[j]\n",
    "                    self.weights[j] = self.weights[j] - lrweights\n",
    "            print(\"Final Error : \",self.error(Y))\n",
    "            k = k + 5000\n",
    "\n",
    "        \n",
    "    def predict(self,X):\n",
    "        self.a[0] = np.array(X)\n",
    "        self.Z[0] = np.dot(self.a[0],self.weights[0])\n",
    "        self.a[1] = self.sigmoid(self.Z[0])\n",
    "        self.Z[1] = np.dot(self.a[1],self.weights[1])\n",
    "        self.a[2] = self.sigmoid(self.Z[1])\n",
    "        return self.a[2]\n",
    "    \n",
    "            "
   ]
  },
  {
   "cell_type": "code",
   "execution_count": 7,
   "metadata": {},
   "outputs": [
    {
     "name": "stdout",
     "output_type": "stream",
     "text": [
      "Final Error :  12.373599243932535\n",
      "Final Error :  12.090544478232074\n",
      "Final Error :  12.655521692699855\n",
      "Final Error :  12.829831489774682\n",
      "Final Error :  14.333586369100498\n",
      "Final Error :  13.015716213691432\n",
      "Final Error :  13.0809467016704\n",
      "Final Error :  13.166969052324845\n",
      "Final Error :  17.815139442376587\n",
      "Final Error :  12.86324817176206\n",
      "Final Error :  11.42246244457383\n",
      "Final Error :  30.723822867753253\n",
      "Final Error :  25.31203492212576\n",
      "Final Error :  13.943101363263553\n",
      "Final Error :  12.193534443124602\n",
      "Final Error :  12.636816325695007\n",
      "Final Error :  13.773782265968906\n",
      "Final Error :  12.779623924804811\n",
      "Final Error :  13.821714573389746\n",
      "Final Error :  12.490435020642431\n",
      "Final Error :  13.347333319789456\n",
      "Final Error :  12.144586368901507\n",
      "Final Error :  13.096734036452588\n",
      "Final Error :  12.476961524432577\n",
      "Final Error :  13.684460778420197\n"
     ]
    }
   ],
   "source": [
    "k = Neural_network()\n",
    "k.initialization()\n",
    "k.gradient_descent(X,X)"
   ]
  },
  {
   "cell_type": "code",
   "execution_count": 8,
   "metadata": {},
   "outputs": [],
   "source": [
    "# X_test = X_test[0:1000]\n",
    "# Y_test = Y_test[0:1000]\n",
    "\n",
    "finaldata=k.predict(X)\n",
    "finaldata=pd.DataFrame(finaldata)\n",
    "df_final = pd.concat([finaldata,dataset['xAttack']],axis=1)"
   ]
  },
  {
   "cell_type": "code",
   "execution_count": 9,
   "metadata": {},
   "outputs": [],
   "source": [
    "# df_final"
   ]
  },
  {
   "cell_type": "code",
   "execution_count": 10,
   "metadata": {},
   "outputs": [],
   "source": [
    "df_final.to_csv(\"data_final_deep.csv\",index=False)"
   ]
  }
 ],
 "metadata": {
  "kernelspec": {
   "display_name": "Python 3",
   "language": "python",
   "name": "python3"
  },
  "language_info": {
   "codemirror_mode": {
    "name": "ipython",
    "version": 3
   },
   "file_extension": ".py",
   "mimetype": "text/x-python",
   "name": "python",
   "nbconvert_exporter": "python",
   "pygments_lexer": "ipython3",
   "version": "3.6.7"
  }
 },
 "nbformat": 4,
 "nbformat_minor": 2
}
