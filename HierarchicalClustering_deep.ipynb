{
 "cells": [
  {
   "cell_type": "code",
   "execution_count": 8,
   "metadata": {},
   "outputs": [],
   "source": [
    "from sklearn.cluster import AgglomerativeClustering\n",
    "from sklearn.metrics.cluster import contingency_matrix\n",
    "from sklearn.decomposition import PCA\n",
    "import numpy as np\n",
    "import pandas as pd\n",
    "import io\n",
    "import requests\n",
    "import matplotlib.pyplot as plt"
   ]
  },
  {
   "cell_type": "code",
   "execution_count": 9,
   "metadata": {},
   "outputs": [],
   "source": [
    "df=pd.read_csv(\"data_final_deep.csv\")\n",
    "k = 5\n",
    "df = df.sample(25000)\n",
    "X = df.iloc[:,0:14].values"
   ]
  },
  {
   "cell_type": "code",
   "execution_count": 10,
   "metadata": {},
   "outputs": [],
   "source": [
    "Y = []\n",
    "for i in df['xAttack']:\n",
    "    if i==\"normal\":\n",
    "        Y.append(0)\n",
    "    elif i==\"dos\":\n",
    "        Y.append(1)\n",
    "    elif i==\"r2l\":\n",
    "        Y.append(2)\n",
    "    elif i==\"probe\":\n",
    "        Y.append(3)\n",
    "    elif i==\"u2r\":\n",
    "        Y.append(4)\n",
    "Y = np.array(Y)\n",
    "# Y = Y[0:10000]"
   ]
  },
  {
   "cell_type": "code",
   "execution_count": 11,
   "metadata": {},
   "outputs": [],
   "source": [
    "cluster = AgglomerativeClustering(n_clusters=k, affinity='euclidean', linkage='single')  \n",
    "labels = cluster.fit_predict(X)  "
   ]
  },
  {
   "cell_type": "code",
   "execution_count": 12,
   "metadata": {},
   "outputs": [],
   "source": [
    "cont = contingency_matrix(labels,Y)"
   ]
  },
  {
   "cell_type": "code",
   "execution_count": 13,
   "metadata": {},
   "outputs": [
    {
     "data": {
      "text/plain": [
       "0.53208"
      ]
     },
     "execution_count": 13,
     "metadata": {},
     "output_type": "execute_result"
    }
   ],
   "source": [
    "ans = 0\n",
    "for i in cont:\n",
    "    ans = ans + max(i)\n",
    "purity = ans/len(df)\n",
    "purity"
   ]
  },
  {
   "cell_type": "code",
   "execution_count": 14,
   "metadata": {},
   "outputs": [
    {
     "data": {
      "image/png": "[encoded data removed]",
      "text/plain": [
       "<Figure size 432x288 with 1 Axes>"
      ]
     },
     "metadata": {},
     "output_type": "display_data"
    }
   ],
   "source": [
    "labels =  'KMeans', 'GMM', 'Hierarchical',\n",
    "sizes = [85.7731418637327, 83.94179705174919, 53.272]\n",
    "colors = ['gold', 'yellowgreen', 'lightcoral']\n",
    "explode = (0, 0, 0)\n",
    "plt.pie(sizes, explode=explode, labels=labels, colors=colors,\n",
    "autopct='%1.1f%%', shadow=True, startangle=140)\n",
    "plt.axis('equal')\n",
    "plt.show()"
   ]
  }
 ],
 "metadata": {
  "kernelspec": {
   "display_name": "Python 3",
   "language": "python",
   "name": "python3"
  },
  "language_info": {
   "codemirror_mode": {
    "name": "ipython",
    "version": 3
   },
   "file_extension": ".py",
   "mimetype": "text/x-python",
   "name": "python",
   "nbconvert_exporter": "python",
   "pygments_lexer": "ipython3",
   "version": "3.6.7"
  }
 },
 "nbformat": 4,
 "nbformat_minor": 2
}
