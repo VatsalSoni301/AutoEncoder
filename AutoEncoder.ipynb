{
 "cells": [
  {
   "cell_type": "code",
   "execution_count": 1,
   "metadata": {},
   "outputs": [],
   "source": [
    "import numpy as np\n",
    "import pandas as pd\n",
    "from sklearn.model_selection import train_test_split\n",
    "from sklearn.metrics import accuracy_score\n",
    "import copy"
   ]
  },
  {
   "cell_type": "code",
   "execution_count": 2,
   "metadata": {},
   "outputs": [],
   "source": [
    "dataset = pd.read_csv('data.csv')\n",
    "# dataset"
   ]
  },
  {
   "cell_type": "code",
   "execution_count": 3,
   "metadata": {},
   "outputs": [],
   "source": [
    "X = dataset.drop('xAttack', axis = 1)\n",
    "Y = dataset['xAttack']"
   ]
  },
  {
   "cell_type": "code",
   "execution_count": 4,
   "metadata": {},
   "outputs": [
    {
     "data": {
      "text/plain": [
       "(125973, 29)"
      ]
     },
     "execution_count": 4,
     "metadata": {},
     "output_type": "execute_result"
    }
   ],
   "source": [
    "X = (X - np.mean(X))/np.std(X)\n",
    "X.shape"
   ]
  },
  {
   "cell_type": "code",
   "execution_count": 5,
   "metadata": {},
   "outputs": [],
   "source": [
    "X = X.iloc[:]\n",
    "# X_copy = copy.deepcopy(X_train)\n",
    "# Y_copy = copy.deepcopy(Y_train)\n",
    "# Y_train\n",
    "Y=pd.concat([Y,pd.get_dummies(Y,prefix='xAttack')],axis=1).drop(['xAttack'],axis=1)\n",
    "Y = Y.iloc[:]\n",
    "# X"
   ]
  },
  {
   "cell_type": "code",
   "execution_count": 6,
   "metadata": {},
   "outputs": [],
   "source": [
    "class Neural_network(object):\n",
    "    \n",
    "    def __init__(self):\n",
    "        self.input_layer_size = 29\n",
    "        self.output_layer_size = 29\n",
    "        self.hidden_layer_size = 14\n",
    "        self.hidden_layers = 1\n",
    "        self.weights = {}\n",
    "        self.dweights = {}\n",
    "        self.Z = {}\n",
    "        self.a = {}\n",
    "        self.Y_hat = np.array([])\n",
    "        self.delta = {}\n",
    "        self.epoch = 300\n",
    "        self.ita = 0.001\n",
    "        \n",
    "    def initialization(self):\n",
    "        \n",
    "        self.weights[1] = np.random.randn(self.input_layer_size,self.hidden_layer_size)*0.01\n",
    "        self.weights[self.hidden_layers+1] = np.random.randn(self.hidden_layer_size,self.output_layer_size)*0.01\n",
    "        \n",
    "        for i in np.arange(2,self.hidden_layers+1):\n",
    "            self.weights[i] = np.random.randn(self.hidden_layer_size,self.hidden_layer_size)*0.01\n",
    "            \n",
    "    \n",
    "    def softmax(self,a):\n",
    "        tsum = np.sum(a,axis = 1,keepdims = True)\n",
    "        soft_a = np.divide(a,tsum)\n",
    "        return soft_a\n",
    "    \n",
    "#     def y_prep(self,Y,k):\n",
    "#          # Onehot\n",
    "#         y = np.zeros((len(Y),self.output_layer_size))\n",
    "#         for i in range(y.shape[0]):\n",
    "#             y[i][Y[i]] = 1\n",
    "#         return y\n",
    "    \n",
    "    \n",
    "    def error(self,y):\n",
    "        return sum(0.5*np.sum((y-self.Y_hat)*(y-self.Y_hat),axis = 1))\n",
    "    \n",
    "    def derivative_sigmoid(self,layer):\n",
    "        derivative = layer*(1-layer)\n",
    "        return derivative\n",
    "    \n",
    "   \n",
    "    def deltas(self,y):\n",
    "        w = self.a[self.hidden_layers+2]\n",
    "        self.delta[self.hidden_layers+2] = -(y - self.Y_hat)*self.derivative_sigmoid(w)\n",
    "        self.dweights[self.hidden_layers+1] = np.dot(self.a[self.hidden_layers+1].T , (self.delta[self.hidden_layers+2]))\n",
    "        \n",
    "        for i in np.arange(self.hidden_layers+1,1,-1):\n",
    "            self.delta[i] = ( np.dot(self.delta[i+1], self.weights[i].T))*self.derivative_sigmoid(self.a[i])\n",
    "            self.dweights[i-1] = np.dot(self.a[i-1].T , (self.delta[i]))  \n",
    "    \n",
    "    def sigmoid(self,x):\n",
    "        x = -x\n",
    "        return 1 / (1 + np.exp(x))\n",
    "    \n",
    "    \n",
    "    \n",
    "    def forward_propagation(self, X):\n",
    "        self.a[1]=np.array(X)\n",
    "        \n",
    "\n",
    "        for i in range(1,self.hidden_layers+2):\n",
    "            self.Z[i+1] = np.dot(self.a[i],self.weights[i])\n",
    "            self.a[i+1] = self.sigmoid(self.Z[i+1])\n",
    "        self.Y_hat = self.softmax(self.a[self.hidden_layers+2])\n",
    "        \n",
    "   \n",
    "    def gradient_descent(self,X_train,Y_train):\n",
    "        k = 0\n",
    "        while k<=120000:\n",
    "\n",
    "            X = X_train[k:k+10000]\n",
    "            y = Y_train[k:k+10000]\n",
    "#             print(y)\n",
    "            for i in range(self.epoch):\n",
    "                self.forward_propagation(X)\n",
    "#                 y = self.y_prep(Y,k)\n",
    "#                 print(\"Error : \",self.error(y))\n",
    "                self.deltas(y)\n",
    "                for j in range(1,self.hidden_layers+2):\n",
    "                    self.weights[j] = self.weights[j] - self.ita*self.dweights[j]\n",
    "            print(\"Final Error : \",self.error(y))\n",
    "            k = k + 10000\n",
    "        \n",
    "        \n",
    "    def predict(self,X):\n",
    "        self.a[1] = np.array(X.T[0:self.input_layer_size].T)\n",
    "        self.Z[1] = np.dot(self.a[1],self.weights[1])\n",
    "        self.a[1] = self.sigmoid(self.Z[1])\n",
    "    \n",
    "    def accuracy(self,Y):\n",
    "        predicted = np.argmax(self.Y_hat,axis = 1)\n",
    "        print(predicted)\n",
    "        print(\"Accuracy score : \",100*(accuracy_score(predicted,np.array(Y))))\n",
    "            "
   ]
  },
  {
   "cell_type": "code",
   "execution_count": 7,
   "metadata": {},
   "outputs": [
    {
     "name": "stdout",
     "output_type": "stream",
     "text": [
      "Final Error :  110669.71377152434\n",
      "Final Error :  115361.62640831129\n",
      "Final Error :  124452.30590576523\n",
      "Final Error :  118879.70231199752\n",
      "Final Error :  141072.9196067582\n",
      "Final Error :  198302.61884852254\n",
      "Final Error :  183779.02643226256\n",
      "Final Error :  111859.43329818957\n",
      "Final Error :  120246.67570416405\n",
      "Final Error :  118955.46082327397\n",
      "Final Error :  114825.15674145\n",
      "Final Error :  115240.46450209702\n",
      "Final Error :  99684.54026533866\n"
     ]
    }
   ],
   "source": [
    "k = Neural_network()\n",
    "k.initialization()\n",
    "k.gradient_descent(X,X)"
   ]
  },
  {
   "cell_type": "code",
   "execution_count": 8,
   "metadata": {},
   "outputs": [],
   "source": [
    "# X_test = X_test[0:1000]\n",
    "# Y_test = Y_test[0:1000]\n",
    "\n",
    "finaldata=k.predict(X)\n",
    "finaldata=pd.DataFrame(finaldata)\n",
    "df_final = pd.concat([finaldata,dataset['xAttack']],axis=1)"
   ]
  },
  {
   "cell_type": "code",
   "execution_count": 9,
   "metadata": {},
   "outputs": [],
   "source": [
    "df_final.to_csv(\"data_final.csv\",index=False)"
   ]
  }
 ],
 "metadata": {
  "kernelspec": {
   "display_name": "Python 3",
   "language": "python",
   "name": "python3"
  },
  "language_info": {
   "codemirror_mode": {
    "name": "ipython",
    "version": 3
   },
   "file_extension": ".py",
   "mimetype": "text/x-python",
   "name": "python",
   "nbconvert_exporter": "python",
   "pygments_lexer": "ipython3",
   "version": "3.6.7"
  }
 },
 "nbformat": 4,
 "nbformat_minor": 2
}
