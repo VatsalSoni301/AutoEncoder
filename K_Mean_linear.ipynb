{
 "cells": [
  {
   "cell_type": "code",
   "execution_count": 1,
   "metadata": {},
   "outputs": [],
   "source": [
    "from sklearn.cluster import KMeans\n",
    "from sklearn.metrics import classification_report,confusion_matrix,accuracy_score\n",
    "from sklearn.metrics.cluster import contingency_matrix\n",
    "import numpy as np\n",
    "import pandas as pd\n",
    "import random\n",
    "import math\n",
    "import copy"
   ]
  },
  {
   "cell_type": "code",
   "execution_count": 2,
   "metadata": {},
   "outputs": [],
   "source": [
    "k = 5"
   ]
  },
  {
   "cell_type": "code",
   "execution_count": 3,
   "metadata": {},
   "outputs": [],
   "source": [
    "df=pd.read_csv(\"data_final_linear.csv\")"
   ]
  },
  {
   "cell_type": "code",
   "execution_count": 4,
   "metadata": {},
   "outputs": [],
   "source": [
    "Y = []\n",
    "for i in df['xAttack']:\n",
    "    if i==\"normal\":\n",
    "        Y.append(0)\n",
    "    elif i==\"dos\":\n",
    "        Y.append(1)\n",
    "    elif i==\"r2l\":\n",
    "        Y.append(2)\n",
    "    elif i==\"probe\":\n",
    "        Y.append(3)\n",
    "    elif i==\"u2r\":\n",
    "        Y.append(4)"
   ]
  },
  {
   "cell_type": "code",
   "execution_count": 5,
   "metadata": {},
   "outputs": [
    {
     "data": {
      "text/plain": [
       "array([0, 2, 1, ..., 2, 1, 0], dtype=int32)"
      ]
     },
     "execution_count": 5,
     "metadata": {},
     "output_type": "execute_result"
    }
   ],
   "source": [
    "X = df.iloc[:,0:14].values\n",
    "kmeans = KMeans(n_clusters=5).fit(X)\n",
    "kmeans.labels_"
   ]
  },
  {
   "cell_type": "code",
   "execution_count": 6,
   "metadata": {},
   "outputs": [
    {
     "name": "stdout",
     "output_type": "stream",
     "text": [
      "0.8597000944646869\n"
     ]
    }
   ],
   "source": [
    "kmeans.cluster_centers_\n",
    "cn = contingency_matrix(kmeans.labels_,Y)\n",
    "ans = 0\n",
    "for i in cn:\n",
    "    ans = ans + max(i)\n",
    "purity = ans/len(df)\n",
    "print(purity)"
   ]
  },
  {
   "cell_type": "code",
   "execution_count": 7,
   "metadata": {},
   "outputs": [
    {
     "name": "stdout",
     "output_type": "stream",
     "text": [
      "[0 2 1 ... 2 1 0]\n"
     ]
    }
   ],
   "source": [
    "ypred = kmeans.predict(X)\n",
    "print(ypred)"
   ]
  },
  {
   "cell_type": "code",
   "execution_count": 8,
   "metadata": {},
   "outputs": [],
   "source": [
    "def euclid(a,b):\n",
    "    return np.sqrt(np.sum((a-b)**2))"
   ]
  },
  {
   "cell_type": "code",
   "execution_count": 9,
   "metadata": {},
   "outputs": [],
   "source": [
    "n = X.shape[0]\n",
    "distances = np.zeros((n,k))\n",
    "d = X.shape[1]\n",
    "clusters = np.zeros(n)\n",
    "mean = np.mean(X, axis = 0)\n",
    "std = np.std(X, axis = 0)\n",
    "centers_new = np.random.randn(k,d)*std + mean\n",
    "centers_old = np.zeros([k,d])"
   ]
  },
  {
   "cell_type": "code",
   "execution_count": 10,
   "metadata": {},
   "outputs": [
    {
     "name": "stdout",
     "output_type": "stream",
     "text": [
      "15.11329092835582\n"
     ]
    }
   ],
   "source": [
    "error = 0\n",
    "for i in range(5):\n",
    "    error = error + euclid(centers_new[i], centers_old[i])\n",
    "\n",
    "print(error)"
   ]
  },
  {
   "cell_type": "code",
   "execution_count": 11,
   "metadata": {
    "scrolled": true
   },
   "outputs": [
    {
     "name": "stdout",
     "output_type": "stream",
     "text": [
      "FLAG= True\n",
      "13.592642735776788\n",
      "1\n",
      "FLAG= False\n",
      "38.97241645849547\n",
      "2\n",
      "FLAG= False\n",
      "19.842848741626135\n",
      "3\n",
      "FLAG= False\n",
      "0.4259991883613718\n",
      "4\n",
      "FLAG= False\n",
      "0.09310455903263751\n",
      "5\n",
      "FLAG= False\n",
      "0.06728116185359216\n",
      "6\n",
      "FLAG= False\n",
      "0.053776785773878\n",
      "7\n",
      "FLAG= False\n",
      "0.04427972999518229\n",
      "8\n",
      "FLAG= False\n",
      "0.03980786786805895\n",
      "9\n",
      "FLAG= False\n",
      "0.036778276008074706\n",
      "10\n",
      "FLAG= False\n",
      "0.032313944890408876\n",
      "11\n",
      "FLAG= False\n",
      "0.03497012497670612\n",
      "12\n",
      "FLAG= False\n",
      "0.029886810618389707\n",
      "13\n",
      "FLAG= False\n",
      "0.02590171419820986\n",
      "14\n",
      "FLAG= False\n",
      "0.021936578286142573\n",
      "15\n",
      "FLAG= False\n",
      "0.01863006116979514\n",
      "16\n",
      "FLAG= False\n",
      "0.013115262589400772\n",
      "17\n",
      "FLAG= False\n",
      "0.013662190386593763\n",
      "18\n",
      "FLAG= False\n",
      "0.01014454961392053\n",
      "19\n",
      "FLAG= False\n",
      "0.007965370443737877\n",
      "20\n",
      "FLAG= False\n",
      "0.006598661944474272\n",
      "21\n",
      "FLAG= False\n",
      "0.005865696668835766\n",
      "22\n",
      "FLAG= False\n",
      "0.0033861839373911192\n",
      "23\n",
      "FLAG= False\n",
      "0.003649197658836754\n",
      "24\n",
      "FLAG= False\n",
      "0.0024147222366093374\n",
      "25\n",
      "FLAG= False\n",
      "0.0021631386821769397\n",
      "26\n",
      "FLAG= False\n",
      "0.0021249942961515025\n",
      "27\n",
      "FLAG= False\n",
      "0.002419372036969507\n",
      "28\n",
      "FLAG= False\n",
      "0.001558540465616768\n",
      "29\n",
      "FLAG= False\n",
      "0.0010928772892406392\n",
      "30\n",
      "FLAG= False\n",
      "0.0009432555214409068\n",
      "31\n",
      "FLAG= False\n",
      "0.0013280962450404109\n",
      "32\n",
      "FLAG= False\n",
      "0.00046583557110653533\n",
      "33\n",
      "FLAG= False\n",
      "0.0010192571010804144\n",
      "34\n",
      "FLAG= False\n",
      "0.0005319271202943298\n",
      "35\n",
      "FLAG= False\n",
      "0.00012538440031766886\n",
      "36\n",
      "FLAG= False\n",
      "0.00012851416493054587\n",
      "37\n",
      "FLAG= False\n",
      "8.010993903032195e-05\n",
      "38\n",
      "FLAG= False\n",
      "0.0\n",
      "39\n"
     ]
    }
   ],
   "source": [
    "iteration = 0\n",
    "force = False\n",
    "while (error != 0) or iteration<1000:\n",
    "    force = False\n",
    "    for i in range(k):\n",
    "        distances[:,i] = np.linalg.norm(X - centers_new[i], axis=1)\n",
    "    \n",
    "    clusters = np.argmin(distances, axis = 1)\n",
    "    \n",
    "    centers_old = copy.deepcopy(centers_new)\n",
    "    for i in range(k):\n",
    "        member = 0\n",
    "        new_center = [0] * d\n",
    "        \n",
    "        for c in range(len(clusters)):\n",
    "            if clusters[c] == i:\n",
    "                member = member + 1\n",
    "                for j in range(0,d):\n",
    "                    new_center[j] += X[c][j]\n",
    "        \n",
    "        if member == 0:\n",
    "            force = True\n",
    "            centers_old = np.zeros([k,d])\n",
    "            centers_new = np.random.randn(k,d)*std + mean\n",
    "            break\n",
    "        else:\n",
    "            new_center = np.array(new_center)\n",
    "            centers_new[i] = new_center/member\n",
    "        \n",
    "    print(\"FLAG=\",force)\n",
    "    error = 0\n",
    "    for i in range(5):\n",
    "        error = error + euclid(centers_new[i], centers_old[i])\n",
    "    iteration = iteration + 1\n",
    "    print(error)\n",
    "    print(iteration)\n",
    "    if error == 0 and force == False:\n",
    "        break"
   ]
  },
  {
   "cell_type": "code",
   "execution_count": 12,
   "metadata": {},
   "outputs": [],
   "source": [
    "# for i in range(k):\n",
    "#     distances[:,i] = np.linalg.norm(X - centers_new[i], axis=1)\n",
    "    \n",
    "# clusters = np.argmin(distances, axis = 1)"
   ]
  },
  {
   "cell_type": "code",
   "execution_count": 13,
   "metadata": {},
   "outputs": [
    {
     "data": {
      "text/plain": [
       "array([3, 3, 0, ..., 3, 0, 3])"
      ]
     },
     "execution_count": 13,
     "metadata": {},
     "output_type": "execute_result"
    }
   ],
   "source": [
    "clusters\n",
    "\n",
    "# centers_new"
   ]
  },
  {
   "cell_type": "code",
   "execution_count": 14,
   "metadata": {},
   "outputs": [
    {
     "name": "stdout",
     "output_type": "stream",
     "text": [
      "[[   82 34210     2   491     0]\n",
      " [    1     0     0     0     0]\n",
      " [  549  6974     0  5407     0]\n",
      " [14705  2472   365  1430    23]\n",
      " [52006  2271   628  4328    29]]\n"
     ]
    }
   ],
   "source": [
    "cont = contingency_matrix(clusters,Y)\n",
    "print(cont)"
   ]
  },
  {
   "cell_type": "code",
   "execution_count": 15,
   "metadata": {},
   "outputs": [
    {
     "name": "stdout",
     "output_type": "stream",
     "text": [
      "0.8565009962452271\n"
     ]
    }
   ],
   "source": [
    "ans = 0\n",
    "for i in cont:\n",
    "    ans = ans + max(i)\n",
    "purity = ans/len(df)\n",
    "print(purity)"
   ]
  }
 ],
 "metadata": {
  "kernelspec": {
   "display_name": "Python 3",
   "language": "python",
   "name": "python3"
  },
  "language_info": {
   "codemirror_mode": {
    "name": "ipython",
    "version": 3
   },
   "file_extension": ".py",
   "mimetype": "text/x-python",
   "name": "python",
   "nbconvert_exporter": "python",
   "pygments_lexer": "ipython3",
   "version": "3.6.7"
  }
 },
 "nbformat": 4,
 "nbformat_minor": 2
}
