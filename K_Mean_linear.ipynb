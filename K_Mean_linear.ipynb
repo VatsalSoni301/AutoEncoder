{
 "cells": [
  {
   "cell_type": "code",
   "execution_count": 1,
   "metadata": {},
   "outputs": [],
   "source": [
    "from sklearn.cluster import KMeans\n",
    "from sklearn.metrics import classification_report,confusion_matrix,accuracy_score\n",
    "from sklearn.metrics.cluster import contingency_matrix\n",
    "import numpy as np\n",
    "import pandas as pd\n",
    "import random\n",
    "import math\n",
    "import copy"
   ]
  },
  {
   "cell_type": "code",
   "execution_count": 2,
   "metadata": {},
   "outputs": [],
   "source": [
    "k = 5"
   ]
  },
  {
   "cell_type": "code",
   "execution_count": 3,
   "metadata": {},
   "outputs": [],
   "source": [
    "df=pd.read_csv(\"data_final_linear.csv\")"
   ]
  },
  {
   "cell_type": "code",
   "execution_count": 4,
   "metadata": {},
   "outputs": [],
   "source": [
    "Y = []\n",
    "for i in df['xAttack']:\n",
    "    if i==\"normal\":\n",
    "        Y.append(0)\n",
    "    elif i==\"dos\":\n",
    "        Y.append(1)\n",
    "    elif i==\"r2l\":\n",
    "        Y.append(2)\n",
    "    elif i==\"probe\":\n",
    "        Y.append(3)\n",
    "    elif i==\"u2r\":\n",
    "        Y.append(4)"
   ]
  },
  {
   "cell_type": "code",
   "execution_count": 5,
   "metadata": {},
   "outputs": [
    {
     "data": {
      "text/plain": [
       "array([2, 1, 3, ..., 1, 3, 2], dtype=int32)"
      ]
     },
     "execution_count": 5,
     "metadata": {},
     "output_type": "execute_result"
    }
   ],
   "source": [
    "X = df.iloc[:,0:14].values\n",
    "kmeans = KMeans(n_clusters=5).fit(X)\n",
    "kmeans.labels_"
   ]
  },
  {
   "cell_type": "code",
   "execution_count": 6,
   "metadata": {},
   "outputs": [
    {
     "name": "stdout",
     "output_type": "stream",
     "text": [
      "0.8429107824692593\n"
     ]
    }
   ],
   "source": [
    "kmeans.cluster_centers_\n",
    "cn = contingency_matrix(kmeans.labels_,Y)\n",
    "ans = 0\n",
    "for i in cn:\n",
    "    ans = ans + max(i)\n",
    "purity = ans/len(df)\n",
    "print(purity)"
   ]
  },
  {
   "cell_type": "code",
   "execution_count": 7,
   "metadata": {},
   "outputs": [
    {
     "name": "stdout",
     "output_type": "stream",
     "text": [
      "[2 1 3 ... 1 3 2]\n"
     ]
    }
   ],
   "source": [
    "ypred = kmeans.predict(X)\n",
    "print(ypred)"
   ]
  },
  {
   "cell_type": "code",
   "execution_count": 8,
   "metadata": {},
   "outputs": [],
   "source": [
    "def euclid(a,b):\n",
    "    return np.sqrt(np.sum((a-b)**2))"
   ]
  },
  {
   "cell_type": "code",
   "execution_count": 9,
   "metadata": {},
   "outputs": [],
   "source": [
    "n = X.shape[0]\n",
    "distances = np.zeros((n,k))\n",
    "d = X.shape[1]\n",
    "clusters = np.zeros(n)\n",
    "mean = np.mean(X, axis = 0)\n",
    "std = np.std(X, axis = 0)\n",
    "centers_new = np.random.randn(k,d)*std + mean\n",
    "centers_old = np.zeros([k,d])"
   ]
  },
  {
   "cell_type": "code",
   "execution_count": 10,
   "metadata": {},
   "outputs": [
    {
     "name": "stdout",
     "output_type": "stream",
     "text": [
      "224.02151387171045\n"
     ]
    }
   ],
   "source": [
    "error = 0\n",
    "for i in range(5):\n",
    "    error = error + euclid(centers_new[i], centers_old[i])\n",
    "\n",
    "print(error)"
   ]
  },
  {
   "cell_type": "code",
   "execution_count": 11,
   "metadata": {
    "scrolled": true
   },
   "outputs": [
    {
     "name": "stdout",
     "output_type": "stream",
     "text": [
      "FLAG= True\n",
      "259.8194261893217\n",
      "1\n",
      "FLAG= True\n",
      "185.7052608118208\n",
      "2\n",
      "FLAG= True\n",
      "208.65299354883075\n",
      "3\n",
      "FLAG= True\n",
      "329.39031563612633\n",
      "4\n",
      "FLAG= True\n",
      "212.70235279379875\n",
      "5\n",
      "FLAG= True\n",
      "266.0978345980229\n",
      "6\n",
      "FLAG= True\n",
      "217.53952441997953\n",
      "7\n",
      "FLAG= True\n",
      "225.65127368258513\n",
      "8\n",
      "FLAG= True\n",
      "206.5446556738723\n",
      "9\n",
      "FLAG= True\n",
      "177.7176045259859\n",
      "10\n",
      "FLAG= True\n",
      "222.11475427230457\n",
      "11\n",
      "FLAG= False\n",
      "264.71500389295574\n",
      "12\n",
      "FLAG= False\n",
      "25.532822893997583\n",
      "13\n",
      "FLAG= False\n",
      "9.103880904536243\n",
      "14\n",
      "FLAG= False\n",
      "5.567120997252347\n",
      "15\n",
      "FLAG= False\n",
      "3.9234962641869155\n",
      "16\n",
      "FLAG= False\n",
      "2.8163210408066695\n",
      "17\n",
      "FLAG= False\n",
      "2.0058557108369204\n",
      "18\n",
      "FLAG= False\n",
      "1.542694199700173\n",
      "19\n",
      "FLAG= False\n",
      "1.1000058151226386\n",
      "20\n",
      "FLAG= False\n",
      "0.8084091298590517\n",
      "21\n",
      "FLAG= False\n",
      "0.6326127875443195\n",
      "22\n",
      "FLAG= False\n",
      "0.46146927392123566\n",
      "23\n",
      "FLAG= False\n",
      "0.35352182304345836\n",
      "24\n",
      "FLAG= False\n",
      "0.25801399395091734\n",
      "25\n",
      "FLAG= False\n",
      "0.22417148296782655\n",
      "26\n",
      "FLAG= False\n",
      "0.18611863628738615\n",
      "27\n",
      "FLAG= False\n",
      "0.14363428401598652\n",
      "28\n",
      "FLAG= False\n",
      "0.12669451088349604\n",
      "29\n",
      "FLAG= False\n",
      "0.1050012009167001\n",
      "30\n",
      "FLAG= False\n",
      "0.09124385747846164\n",
      "31\n",
      "FLAG= False\n",
      "0.07431812394655407\n",
      "32\n",
      "FLAG= False\n",
      "0.04646704220501263\n",
      "33\n",
      "FLAG= False\n",
      "0.038067251488726604\n",
      "34\n",
      "FLAG= False\n",
      "0.03394401833994668\n",
      "35\n",
      "FLAG= False\n",
      "0.01932680309063744\n",
      "36\n",
      "FLAG= False\n",
      "0.019544237074692602\n",
      "37\n",
      "FLAG= False\n",
      "0.02246739194422482\n",
      "38\n",
      "FLAG= False\n",
      "0.015720664978759225\n",
      "39\n",
      "FLAG= False\n",
      "0.008005326839963925\n",
      "40\n",
      "FLAG= False\n",
      "0.0030717279454367786\n",
      "41\n",
      "FLAG= False\n",
      "0.0020480697614312683\n",
      "42\n",
      "FLAG= False\n",
      "0.0\n",
      "43\n"
     ]
    }
   ],
   "source": [
    "iteration = 0\n",
    "force = False\n",
    "while (error != 0) or iteration<1000:\n",
    "    force = False\n",
    "    for i in range(k):\n",
    "        distances[:,i] = np.linalg.norm(X - centers_new[i], axis=1)\n",
    "    \n",
    "    clusters = np.argmin(distances, axis = 1)\n",
    "    \n",
    "    centers_old = copy.deepcopy(centers_new)\n",
    "    for i in range(k):\n",
    "        member = 0\n",
    "        new_center = [0] * d\n",
    "        \n",
    "        for c in range(len(clusters)):\n",
    "            if clusters[c] == i:\n",
    "                member = member + 1\n",
    "                for j in range(0,d):\n",
    "                    new_center[j] += X[c][j]\n",
    "        \n",
    "        if member == 0:\n",
    "            force = True\n",
    "            centers_old = np.zeros([k,d])\n",
    "            centers_new = np.random.randn(k,d)*std + mean\n",
    "            break\n",
    "        else:\n",
    "            new_center = np.array(new_center)\n",
    "            centers_new[i] = new_center/member\n",
    "        \n",
    "    print(\"FLAG=\",force)\n",
    "    error = 0\n",
    "    for i in range(5):\n",
    "        error = error + euclid(centers_new[i], centers_old[i])\n",
    "    iteration = iteration + 1\n",
    "    print(error)\n",
    "    print(iteration)\n",
    "    if error == 0 and force == False:\n",
    "        break"
   ]
  },
  {
   "cell_type": "code",
   "execution_count": 12,
   "metadata": {},
   "outputs": [],
   "source": [
    "# for i in range(k):\n",
    "#     distances[:,i] = np.linalg.norm(X - centers_new[i], axis=1)\n",
    "    \n",
    "# clusters = np.argmin(distances, axis = 1)"
   ]
  },
  {
   "cell_type": "code",
   "execution_count": 13,
   "metadata": {},
   "outputs": [
    {
     "data": {
      "text/plain": [
       "array([4, 3, 1, ..., 3, 1, 4])"
      ]
     },
     "execution_count": 13,
     "metadata": {},
     "output_type": "execute_result"
    }
   ],
   "source": [
    "clusters\n",
    "\n",
    "# centers_new"
   ]
  },
  {
   "cell_type": "code",
   "execution_count": 14,
   "metadata": {},
   "outputs": [
    {
     "name": "stdout",
     "output_type": "stream",
     "text": [
      "[[50077  2404   566  4323    26]\n",
      " [    0 26689     0   293     0]\n",
      " [   26  7378     0  2174     0]\n",
      " [ 2842  7278    10  3765     3]\n",
      " [14398  2178   419  1101    23]]\n"
     ]
    }
   ],
   "source": [
    "cont = contingency_matrix(clusters,Y)\n",
    "print(cont)"
   ]
  },
  {
   "cell_type": "code",
   "execution_count": 15,
   "metadata": {},
   "outputs": [
    {
     "name": "stdout",
     "output_type": "stream",
     "text": [
      "0.8400212744000699\n"
     ]
    }
   ],
   "source": [
    "ans = 0\n",
    "for i in cont:\n",
    "    ans = ans + max(i)\n",
    "purity = ans/len(df)\n",
    "print(purity)"
   ]
  }
 ],
 "metadata": {
  "kernelspec": {
   "display_name": "Python 3",
   "language": "python",
   "name": "python3"
  },
  "language_info": {
   "codemirror_mode": {
    "name": "ipython",
    "version": 3
   },
   "file_extension": ".py",
   "mimetype": "text/x-python",
   "name": "python",
   "nbconvert_exporter": "python",
   "pygments_lexer": "ipython3",
   "version": "3.6.7"
  }
 },
 "nbformat": 4,
 "nbformat_minor": 2
}
