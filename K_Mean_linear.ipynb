{
 "cells": [
  {
   "cell_type": "code",
   "execution_count": 1,
   "metadata": {},
   "outputs": [],
   "source": [
    "from sklearn.cluster import KMeans\n",
    "from sklearn.metrics import classification_report,confusion_matrix,accuracy_score\n",
    "from sklearn.metrics.cluster import contingency_matrix\n",
    "import numpy as np\n",
    "import pandas as pd\n",
    "import random\n",
    "import math\n",
    "import copy"
   ]
  },
  {
   "cell_type": "code",
   "execution_count": 2,
   "metadata": {},
   "outputs": [],
   "source": [
    "k = 5"
   ]
  },
  {
   "cell_type": "code",
   "execution_count": 3,
   "metadata": {},
   "outputs": [],
   "source": [
    "df=pd.read_csv(\"data_final_linear.csv\")"
   ]
  },
  {
   "cell_type": "code",
   "execution_count": 4,
   "metadata": {},
   "outputs": [],
   "source": [
    "Y = []\n",
    "for i in df['xAttack']:\n",
    "    if i==\"normal\":\n",
    "        Y.append(0)\n",
    "    elif i==\"dos\":\n",
    "        Y.append(1)\n",
    "    elif i==\"r2l\":\n",
    "        Y.append(2)\n",
    "    elif i==\"probe\":\n",
    "        Y.append(3)\n",
    "    elif i==\"u2r\":\n",
    "        Y.append(4)"
   ]
  },
  {
   "cell_type": "code",
   "execution_count": 5,
   "metadata": {},
   "outputs": [
    {
     "data": {
      "text/plain": [
       "array([1, 2, 0, ..., 2, 0, 1], dtype=int32)"
      ]
     },
     "execution_count": 5,
     "metadata": {},
     "output_type": "execute_result"
    }
   ],
   "source": [
    "X = df.iloc[:,0:14].values\n",
    "kmeans = KMeans(n_clusters=5).fit(X)\n",
    "kmeans.labels_"
   ]
  },
  {
   "cell_type": "code",
   "execution_count": 6,
   "metadata": {},
   "outputs": [
    {
     "name": "stdout",
     "output_type": "stream",
     "text": [
      "0.8597080326736681\n"
     ]
    }
   ],
   "source": [
    "kmeans.cluster_centers_\n",
    "cn = contingency_matrix(kmeans.labels_,Y)\n",
    "ans = 0\n",
    "for i in cn:\n",
    "    ans = ans + max(i)\n",
    "purity = ans/len(df)\n",
    "print(purity)"
   ]
  },
  {
   "cell_type": "code",
   "execution_count": 7,
   "metadata": {},
   "outputs": [
    {
     "name": "stdout",
     "output_type": "stream",
     "text": [
      "[1 2 0 ... 2 0 1]\n"
     ]
    }
   ],
   "source": [
    "ypred = kmeans.predict(X)\n",
    "print(ypred)"
   ]
  },
  {
   "cell_type": "code",
   "execution_count": 8,
   "metadata": {},
   "outputs": [],
   "source": [
    "def euclid(a,b):\n",
    "    return np.sqrt(np.sum((a-b)**2))"
   ]
  },
  {
   "cell_type": "code",
   "execution_count": 9,
   "metadata": {},
   "outputs": [],
   "source": [
    "n = X.shape[0]\n",
    "distances = np.zeros((n,k))\n",
    "d = X.shape[1]\n",
    "clusters = np.zeros(n)\n",
    "mean = np.mean(X, axis = 0)\n",
    "std = np.std(X, axis = 0)\n",
    "centers_new = np.random.randn(k,d)*std + mean\n",
    "centers_old = np.zeros([k,d])"
   ]
  },
  {
   "cell_type": "code",
   "execution_count": 10,
   "metadata": {},
   "outputs": [
    {
     "name": "stdout",
     "output_type": "stream",
     "text": [
      "15.4983867165815\n"
     ]
    }
   ],
   "source": [
    "error = 0\n",
    "for i in range(5):\n",
    "    error = error + euclid(centers_new[i], centers_old[i])\n",
    "\n",
    "print(error)"
   ]
  },
  {
   "cell_type": "code",
   "execution_count": 11,
   "metadata": {},
   "outputs": [
    {
     "name": "stdout",
     "output_type": "stream",
     "text": [
      "FLAG= False\n",
      "20.342433999034903\n",
      "1\n",
      "FLAG= False\n",
      "2.6936761264818845\n",
      "2\n",
      "FLAG= False\n",
      "0.797085293244497\n",
      "3\n",
      "FLAG= False\n",
      "0.3100356404883071\n",
      "4\n",
      "FLAG= False\n",
      "0.10852626418627684\n",
      "5\n",
      "FLAG= False\n",
      "0.08047466572648837\n",
      "6\n",
      "FLAG= False\n",
      "0.05933688652787887\n",
      "7\n",
      "FLAG= False\n",
      "0.04557624320955119\n",
      "8\n",
      "FLAG= False\n",
      "0.0351048843086688\n",
      "9\n",
      "FLAG= False\n",
      "0.028631038115167505\n",
      "10\n",
      "FLAG= False\n",
      "0.026457198538945195\n",
      "11\n",
      "FLAG= False\n",
      "0.022369644053553447\n",
      "12\n",
      "FLAG= False\n",
      "0.01995161634672556\n",
      "13\n",
      "FLAG= False\n",
      "0.018762389981721493\n",
      "14\n",
      "FLAG= False\n",
      "0.016768614813106424\n",
      "15\n",
      "FLAG= False\n",
      "0.01653832305505315\n",
      "16\n",
      "FLAG= False\n",
      "0.014730195100019747\n",
      "17\n",
      "FLAG= False\n",
      "0.013376085243794805\n",
      "18\n",
      "FLAG= False\n",
      "0.011916460465404956\n",
      "19\n",
      "FLAG= False\n",
      "0.01018217167337378\n",
      "20\n",
      "FLAG= False\n",
      "0.008550495474424406\n",
      "21\n",
      "FLAG= False\n",
      "0.006969500195581915\n",
      "22\n",
      "FLAG= False\n",
      "0.006996611040876335\n",
      "23\n",
      "FLAG= False\n",
      "0.00593924659360219\n",
      "24\n",
      "FLAG= False\n",
      "0.004187594560319947\n",
      "25\n",
      "FLAG= False\n",
      "0.004511748086708261\n",
      "26\n",
      "FLAG= False\n",
      "0.0043594582115977455\n",
      "27\n",
      "FLAG= False\n",
      "0.0027117401858996635\n",
      "28\n",
      "FLAG= False\n",
      "0.0013095956816428663\n",
      "29\n",
      "FLAG= False\n",
      "0.0006781744114245571\n",
      "30\n",
      "FLAG= False\n",
      "0.0006629726836041192\n",
      "31\n",
      "FLAG= False\n",
      "0.0006599916127807254\n",
      "32\n",
      "FLAG= False\n",
      "0.000912087103286505\n",
      "33\n",
      "FLAG= False\n",
      "0.000731786139228258\n",
      "34\n",
      "FLAG= False\n",
      "0.0004140011899958892\n",
      "35\n",
      "FLAG= False\n",
      "0.00018952354931824083\n",
      "36\n",
      "FLAG= False\n",
      "0.00026173825973741676\n",
      "37\n",
      "FLAG= False\n",
      "0.0\n",
      "38\n"
     ]
    }
   ],
   "source": [
    "iteration = 0\n",
    "force = False\n",
    "while (error != 0 or force==True) or iteration<1000:\n",
    "    force = False\n",
    "    for i in range(k):\n",
    "        distances[:,i] = np.linalg.norm(X - centers_new[i], axis=1)\n",
    "    \n",
    "    clusters = np.argmin(distances, axis = 1)\n",
    "    \n",
    "    centers_old = copy.deepcopy(centers_new)\n",
    "    for i in range(k):\n",
    "        member = 0\n",
    "        new_center = [0] * d\n",
    "        \n",
    "        for c in range(len(clusters)):\n",
    "            if clusters[c] == i:\n",
    "                member = member + 1\n",
    "                for j in range(0,d):\n",
    "                    new_center[j] += X[c][j]\n",
    "        \n",
    "        if member == 0:\n",
    "            force = True\n",
    "            iteration = 0\n",
    "            centers_old = np.zeros([k,c])\n",
    "            centers_new = np.random.randn(k,d)*std + mean\n",
    "            break\n",
    "        else:\n",
    "            new_center = np.array(new_center)\n",
    "            centers_new[i] = new_center/member\n",
    "        \n",
    "    print(\"FLAG=\",force)\n",
    "    error = 0\n",
    "    for i in range(5):\n",
    "        error = error + euclid(centers_new[i], centers_old[i])\n",
    "    iteration = iteration + 1\n",
    "    print(error)\n",
    "    print(iteration)\n",
    "    if error == 0 and force == False:\n",
    "        break"
   ]
  },
  {
   "cell_type": "code",
   "execution_count": 12,
   "metadata": {},
   "outputs": [],
   "source": [
    "# for i in range(k):\n",
    "#     distances[:,i] = np.linalg.norm(X - centers_new[i], axis=1)\n",
    "    \n",
    "# clusters = np.argmin(distances, axis = 1)"
   ]
  },
  {
   "cell_type": "code",
   "execution_count": 13,
   "metadata": {},
   "outputs": [
    {
     "data": {
      "text/plain": [
       "array([4, 4, 3, ..., 4, 3, 4])"
      ]
     },
     "execution_count": 13,
     "metadata": {},
     "output_type": "execute_result"
    }
   ],
   "source": [
    "clusters\n",
    "\n",
    "# centers_new"
   ]
  },
  {
   "cell_type": "code",
   "execution_count": 14,
   "metadata": {},
   "outputs": [
    {
     "name": "stdout",
     "output_type": "stream",
     "text": [
      "[[51991  2271   628  4328    29]\n",
      " [   27     0     0     0     0]\n",
      " [  548  6974     0  5407     0]\n",
      " [   82 34210     2   491     0]\n",
      " [14695  2472   365  1430    23]]\n"
     ]
    }
   ],
   "source": [
    "cont = contingency_matrix(clusters,Y)\n",
    "print(cont)"
   ]
  },
  {
   "cell_type": "code",
   "execution_count": 15,
   "metadata": {},
   "outputs": [
    {
     "name": "stdout",
     "output_type": "stream",
     "text": [
      "0.8565089344542084\n"
     ]
    }
   ],
   "source": [
    "ans = 0\n",
    "for i in cont:\n",
    "    ans = ans + max(i)\n",
    "purity = ans/len(df)\n",
    "print(purity)"
   ]
  }
 ],
 "metadata": {
  "kernelspec": {
   "display_name": "Python 3",
   "language": "python",
   "name": "python3"
  },
  "language_info": {
   "codemirror_mode": {
    "name": "ipython",
    "version": 3
   },
   "file_extension": ".py",
   "mimetype": "text/x-python",
   "name": "python",
   "nbconvert_exporter": "python",
   "pygments_lexer": "ipython3",
   "version": "3.6.7"
  }
 },
 "nbformat": 4,
 "nbformat_minor": 2
}
