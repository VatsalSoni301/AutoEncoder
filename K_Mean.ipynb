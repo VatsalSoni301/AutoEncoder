{
 "cells": [
  {
   "cell_type": "code",
   "execution_count": 1,
   "metadata": {},
   "outputs": [],
   "source": [
    "from sklearn.cluster import KMeans\n",
    "from sklearn.metrics import classification_report,confusion_matrix,accuracy_score\n",
    "from sklearn.metrics.cluster import contingency_matrix\n",
    "import numpy as np\n",
    "import pandas as pd\n",
    "import random\n",
    "import math\n",
    "import copy"
   ]
  },
  {
   "cell_type": "code",
   "execution_count": 2,
   "metadata": {},
   "outputs": [],
   "source": [
    "k = 5"
   ]
  },
  {
   "cell_type": "code",
   "execution_count": 3,
   "metadata": {},
   "outputs": [],
   "source": [
    "df=pd.read_csv(\"data_final.csv\")"
   ]
  },
  {
   "cell_type": "code",
   "execution_count": 4,
   "metadata": {},
   "outputs": [],
   "source": [
    "Y = []\n",
    "for i in df['xAttack']:\n",
    "    if i==\"normal\":\n",
    "        Y.append(0)\n",
    "    elif i==\"dos\":\n",
    "        Y.append(1)\n",
    "    elif i==\"r2l\":\n",
    "        Y.append(2)\n",
    "    elif i==\"probe\":\n",
    "        Y.append(3)\n",
    "    elif i==\"u2r\":\n",
    "        Y.append(4)"
   ]
  },
  {
   "cell_type": "code",
   "execution_count": 5,
   "metadata": {},
   "outputs": [
    {
     "data": {
      "text/plain": [
       "array([0, 0, 1, ..., 0, 1, 0], dtype=int32)"
      ]
     },
     "execution_count": 5,
     "metadata": {},
     "output_type": "execute_result"
    }
   ],
   "source": [
    "X = df.iloc[:,0:14].values\n",
    "kmeans = KMeans(n_clusters=5).fit(X)\n",
    "kmeans.labels_"
   ]
  },
  {
   "cell_type": "code",
   "execution_count": 6,
   "metadata": {},
   "outputs": [
    {
     "name": "stdout",
     "output_type": "stream",
     "text": [
      "0.8362268105070134\n"
     ]
    }
   ],
   "source": [
    "kmeans.cluster_centers_\n",
    "cn = contingency_matrix(kmeans.labels_,Y)\n",
    "ans = 0\n",
    "for i in cn:\n",
    "    ans = ans + max(i)\n",
    "purity = ans/len(df)\n",
    "print(purity)"
   ]
  },
  {
   "cell_type": "code",
   "execution_count": 7,
   "metadata": {},
   "outputs": [
    {
     "name": "stdout",
     "output_type": "stream",
     "text": [
      "[0 0 1 ... 0 1 0]\n"
     ]
    }
   ],
   "source": [
    "ypred = kmeans.predict(X)\n",
    "print(ypred)"
   ]
  },
  {
   "cell_type": "code",
   "execution_count": 8,
   "metadata": {},
   "outputs": [],
   "source": [
    "def euclid(a,b):\n",
    "    return np.sqrt(np.sum((a-b)**2))"
   ]
  },
  {
   "cell_type": "code",
   "execution_count": 9,
   "metadata": {},
   "outputs": [],
   "source": [
    "n = X.shape[0]\n",
    "d = X.shape[1]\n",
    "clusters = np.zeros(n)\n",
    "distances = np.zeros((n,k))\n",
    "mean = np.mean(X, axis = 0)\n",
    "std = np.std(X, axis = 0)\n",
    "centers_new = np.random.randn(k,d)*std + mean\n",
    "centers_old = np.zeros([k,d])"
   ]
  },
  {
   "cell_type": "code",
   "execution_count": 10,
   "metadata": {},
   "outputs": [
    {
     "name": "stdout",
     "output_type": "stream",
     "text": [
      "14.338608020564596\n"
     ]
    }
   ],
   "source": [
    "error = 0\n",
    "for i in range(5):\n",
    "    error = error + euclid(centers_new[i], centers_old[i])\n",
    "\n",
    "print(error)"
   ]
  },
  {
   "cell_type": "code",
   "execution_count": 11,
   "metadata": {
    "scrolled": true
   },
   "outputs": [
    {
     "name": "stdout",
     "output_type": "stream",
     "text": [
      "FLAG= False\n",
      "6.04469025013426\n",
      "1\n",
      "FLAG= False\n",
      "1.8073259228647602\n",
      "2\n",
      "FLAG= False\n",
      "1.5450793782302294\n",
      "3\n",
      "FLAG= False\n",
      "0.36178949679959654\n",
      "4\n",
      "FLAG= False\n",
      "0.3388625907074003\n",
      "5\n",
      "FLAG= False\n",
      "0.3879585849546164\n",
      "6\n",
      "FLAG= False\n",
      "0.18701355377067258\n",
      "7\n",
      "FLAG= False\n",
      "0.07663550860308638\n",
      "8\n",
      "FLAG= False\n",
      "0.031792532112640645\n",
      "9\n",
      "FLAG= False\n",
      "0.010281826088261562\n",
      "10\n",
      "FLAG= False\n",
      "0.002904195113570431\n",
      "11\n",
      "FLAG= False\n",
      "0.0009602322405099682\n",
      "12\n",
      "FLAG= False\n",
      "0.00018126503583936295\n",
      "13\n",
      "FLAG= False\n",
      "0.0001630519467343855\n",
      "14\n",
      "FLAG= False\n",
      "0.0\n",
      "15\n"
     ]
    }
   ],
   "source": [
    "iteration = 0\n",
    "force = False\n",
    "while (error != 0) or iteration<1000:\n",
    "    force = False\n",
    "    for i in range(k):\n",
    "        distances[:,i] = np.linalg.norm(X - centers_new[i], axis=1)\n",
    "    \n",
    "    clusters = np.argmin(distances, axis = 1)\n",
    "    \n",
    "    centers_old = copy.deepcopy(centers_new)\n",
    "    for i in range(k):\n",
    "        member = 0\n",
    "        new_center = [0] * d\n",
    "        \n",
    "        for c in range(len(clusters)):\n",
    "            if clusters[c] == i:\n",
    "                member = member + 1\n",
    "                for j in range(0,d):\n",
    "                    new_center[j] += X[c][j]\n",
    "        \n",
    "        if member == 0:\n",
    "            force = True\n",
    "            centers_old = np.zeros([k,d])\n",
    "            centers_new = np.random.randn(k,d)*std + mean\n",
    "            break\n",
    "        else:\n",
    "            new_center = np.array(new_center)\n",
    "            centers_new[i] = new_center/member\n",
    "        \n",
    "    print(\"FLAG=\",force)\n",
    "    error = 0\n",
    "    for i in range(5):\n",
    "        error = error + euclid(centers_new[i], centers_old[i])\n",
    "    iteration = iteration + 1\n",
    "    print(error)\n",
    "    print(iteration)\n",
    "    if error == 0 and force == False:\n",
    "        break"
   ]
  },
  {
   "cell_type": "code",
   "execution_count": 12,
   "metadata": {},
   "outputs": [],
   "source": [
    "# for i in range(k):\n",
    "#     distances[:,i] = np.linalg.norm(X - centers_new[i], axis=1)\n",
    "    \n",
    "# clusters = np.argmin(distances, axis = 1)"
   ]
  },
  {
   "cell_type": "code",
   "execution_count": 13,
   "metadata": {},
   "outputs": [
    {
     "data": {
      "text/plain": [
       "array([1, 1, 0, ..., 1, 0, 1])"
      ]
     },
     "execution_count": 13,
     "metadata": {},
     "output_type": "execute_result"
    }
   ],
   "source": [
    "clusters\n",
    "\n",
    "# centers_new"
   ]
  },
  {
   "cell_type": "code",
   "execution_count": 14,
   "metadata": {},
   "outputs": [
    {
     "name": "stdout",
     "output_type": "stream",
     "text": [
      "[[  170 34246     1   229     0]\n",
      " [17053  1370   935  5016    49]\n",
      " [ 3103  7026    55  5308     3]\n",
      " [ 7252  2753     0   173     0]\n",
      " [39765   532     4   930     0]]\n"
     ]
    }
   ],
   "source": [
    "cont = contingency_matrix(clusters,Y)\n",
    "print(cont)"
   ]
  },
  {
   "cell_type": "code",
   "execution_count": 15,
   "metadata": {},
   "outputs": [
    {
     "name": "stdout",
     "output_type": "stream",
     "text": [
      "0.8362268105070134\n"
     ]
    }
   ],
   "source": [
    "ans = 0\n",
    "for i in cont:\n",
    "    ans = ans + max(i)\n",
    "purity = ans/len(df)\n",
    "print(purity)"
   ]
  }
 ],
 "metadata": {
  "kernelspec": {
   "display_name": "Python 3",
   "language": "python",
   "name": "python3"
  },
  "language_info": {
   "codemirror_mode": {
    "name": "ipython",
    "version": 3
   },
   "file_extension": ".py",
   "mimetype": "text/x-python",
   "name": "python",
   "nbconvert_exporter": "python",
   "pygments_lexer": "ipython3",
   "version": "3.6.7"
  }
 },
 "nbformat": 4,
 "nbformat_minor": 2
}
