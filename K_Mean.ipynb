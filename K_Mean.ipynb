{
 "cells": [
  {
   "cell_type": "code",
   "execution_count": 27,
   "metadata": {},
   "outputs": [],
   "source": [
    "from sklearn.cluster import KMeans\n",
    "from sklearn.metrics import classification_report,confusion_matrix,accuracy_score\n",
    "from sklearn.metrics.cluster import contingency_matrix\n",
    "import numpy as np\n",
    "import pandas as pd\n",
    "import random\n",
    "import math\n",
    "import copy"
   ]
  },
  {
   "cell_type": "code",
   "execution_count": 28,
   "metadata": {},
   "outputs": [],
   "source": [
    "k = 5"
   ]
  },
  {
   "cell_type": "code",
   "execution_count": 29,
   "metadata": {},
   "outputs": [],
   "source": [
    "df=pd.read_csv(\"data_final.csv\")"
   ]
  },
  {
   "cell_type": "code",
   "execution_count": 30,
   "metadata": {},
   "outputs": [],
   "source": [
    "Y = []\n",
    "for i in df['xAttack']:\n",
    "    if i==\"normal\":\n",
    "        Y.append(0)\n",
    "    elif i==\"dos\":\n",
    "        Y.append(1)\n",
    "    elif i==\"r2l\":\n",
    "        Y.append(2)\n",
    "    elif i==\"probe\":\n",
    "        Y.append(3)\n",
    "    elif i==\"u2r\":\n",
    "        Y.append(4)"
   ]
  },
  {
   "cell_type": "code",
   "execution_count": 31,
   "metadata": {},
   "outputs": [
    {
     "data": {
      "text/plain": [
       "array([3, 3, 1, ..., 3, 1, 3], dtype=int32)"
      ]
     },
     "execution_count": 31,
     "metadata": {},
     "output_type": "execute_result"
    }
   ],
   "source": [
    "X = df.iloc[:,0:14].values\n",
    "kmeans = KMeans(n_clusters=5).fit(X)\n",
    "kmeans.labels_"
   ]
  },
  {
   "cell_type": "code",
   "execution_count": 32,
   "metadata": {},
   "outputs": [
    {
     "name": "stdout",
     "output_type": "stream",
     "text": [
      "0.83454391020298\n"
     ]
    }
   ],
   "source": [
    "kmeans.cluster_centers_\n",
    "cn = contingency_matrix(kmeans.labels_,Y)\n",
    "ans = 0\n",
    "for i in cn:\n",
    "    ans = ans + max(i)\n",
    "purity = ans/len(df)\n",
    "print(purity)"
   ]
  },
  {
   "cell_type": "code",
   "execution_count": 33,
   "metadata": {},
   "outputs": [
    {
     "name": "stdout",
     "output_type": "stream",
     "text": [
      "[3 3 1 ... 3 1 3]\n"
     ]
    }
   ],
   "source": [
    "ypred = kmeans.predict(X)\n",
    "print(ypred)"
   ]
  },
  {
   "cell_type": "code",
   "execution_count": 34,
   "metadata": {},
   "outputs": [],
   "source": [
    "def euclid(a,b):\n",
    "    return np.sqrt(np.sum((a-b)**2))"
   ]
  },
  {
   "cell_type": "code",
   "execution_count": 35,
   "metadata": {},
   "outputs": [],
   "source": [
    "n = X.shape[0]\n",
    "d = X.shape[1]\n",
    "clusters = np.zeros(n)\n",
    "distances = np.zeros((n,k))\n",
    "mean = np.mean(X, axis = 0)\n",
    "std = np.std(X, axis = 0)\n",
    "centers_new = np.random.randn(k,d)*std + mean\n",
    "centers_old = np.zeros([k,d])"
   ]
  },
  {
   "cell_type": "code",
   "execution_count": 36,
   "metadata": {},
   "outputs": [
    {
     "name": "stdout",
     "output_type": "stream",
     "text": [
      "11.739770473152312\n"
     ]
    }
   ],
   "source": [
    "error = 0\n",
    "for i in range(5):\n",
    "    error = error + euclid(centers_new[i], centers_old[i])\n",
    "\n",
    "print(error)"
   ]
  },
  {
   "cell_type": "code",
   "execution_count": 37,
   "metadata": {
    "scrolled": true
   },
   "outputs": [
    {
     "name": "stdout",
     "output_type": "stream",
     "text": [
      "FLAG= False\n",
      "5.453681449087973\n",
      "1\n",
      "FLAG= False\n",
      "2.2857921165670065\n",
      "2\n",
      "FLAG= False\n",
      "0.8945568998813627\n",
      "3\n",
      "FLAG= False\n",
      "0.2637781302322079\n",
      "4\n",
      "FLAG= False\n",
      "0.14567919034488408\n",
      "5\n",
      "FLAG= False\n",
      "0.10087220824499168\n",
      "6\n",
      "FLAG= False\n",
      "0.07073575221187177\n",
      "7\n",
      "FLAG= False\n",
      "0.03604959287821525\n",
      "8\n",
      "FLAG= False\n",
      "0.027661921121229838\n",
      "9\n",
      "FLAG= False\n",
      "0.022425787386937734\n",
      "10\n",
      "FLAG= False\n",
      "0.017319876890047346\n",
      "11\n",
      "FLAG= False\n",
      "0.013559475465448018\n",
      "12\n",
      "FLAG= False\n",
      "0.01186936185097946\n",
      "13\n",
      "FLAG= False\n",
      "0.012256523632525438\n",
      "14\n",
      "FLAG= False\n",
      "0.014290856598325054\n",
      "15\n",
      "FLAG= False\n",
      "0.0196336575944402\n",
      "16\n",
      "FLAG= False\n",
      "0.014630638817808947\n",
      "17\n",
      "FLAG= False\n",
      "0.011677738301041438\n",
      "18\n",
      "FLAG= False\n",
      "0.008951963586171731\n",
      "19\n",
      "FLAG= False\n",
      "0.007334026458903105\n",
      "20\n",
      "FLAG= False\n",
      "0.005740974255725323\n",
      "21\n",
      "FLAG= False\n",
      "0.005058892585102177\n",
      "22\n",
      "FLAG= False\n",
      "0.002942463904983002\n",
      "23\n",
      "FLAG= False\n",
      "0.0017281146586666065\n",
      "24\n",
      "FLAG= False\n",
      "0.0011961451899472337\n",
      "25\n",
      "FLAG= False\n",
      "0.0006246252198248135\n",
      "26\n",
      "FLAG= False\n",
      "0.00042099869694751306\n",
      "27\n",
      "FLAG= False\n",
      "0.00034759137873254496\n",
      "28\n",
      "FLAG= False\n",
      "0.00013316316899267914\n",
      "29\n",
      "FLAG= False\n",
      "0.00011692358252467079\n",
      "30\n",
      "FLAG= False\n",
      "0.0\n",
      "31\n"
     ]
    }
   ],
   "source": [
    "iteration = 0\n",
    "force = False\n",
    "while (error != 0 or force==True) or iteration<1000:\n",
    "    force = False\n",
    "    for i in range(k):\n",
    "        distances[:,i] = np.linalg.norm(X - centers_new[i], axis=1)\n",
    "    \n",
    "    clusters = np.argmin(distances, axis = 1)\n",
    "    \n",
    "    centers_old = copy.deepcopy(centers_new)\n",
    "    for i in range(k):\n",
    "        member = 0\n",
    "        new_center = [0] * d\n",
    "        \n",
    "        for c in range(len(clusters)):\n",
    "            if clusters[c] == i:\n",
    "                member = member + 1\n",
    "                for j in range(0,d):\n",
    "                    new_center[j] += X[c][j]\n",
    "        \n",
    "        if member == 0:\n",
    "            force = True\n",
    "            iteration = 0\n",
    "            centers_old = np.zeros([k,c])\n",
    "            centers_new = np.random.randn(k,d)*std + mean\n",
    "            break\n",
    "        else:\n",
    "            new_center = np.array(new_center)\n",
    "            centers_new[i] = new_center/member\n",
    "        \n",
    "    print(\"FLAG=\",force)\n",
    "    error = 0\n",
    "    for i in range(5):\n",
    "        error = error + euclid(centers_new[i], centers_old[i])\n",
    "    iteration = iteration + 1\n",
    "    print(error)\n",
    "    print(iteration)\n",
    "    if error == 0 and force == False:\n",
    "        break"
   ]
  },
  {
   "cell_type": "code",
   "execution_count": 38,
   "metadata": {},
   "outputs": [],
   "source": [
    "# for i in range(k):\n",
    "#     distances[:,i] = np.linalg.norm(X - centers_new[i], axis=1)\n",
    "    \n",
    "# clusters = np.argmin(distances, axis = 1)"
   ]
  },
  {
   "cell_type": "code",
   "execution_count": 39,
   "metadata": {},
   "outputs": [
    {
     "data": {
      "text/plain": [
       "array([4, 4, 3, ..., 4, 3, 4])"
      ]
     },
     "execution_count": 39,
     "metadata": {},
     "output_type": "execute_result"
    }
   ],
   "source": [
    "clusters\n",
    "\n",
    "# centers_new"
   ]
  },
  {
   "cell_type": "code",
   "execution_count": 40,
   "metadata": {},
   "outputs": [
    {
     "name": "stdout",
     "output_type": "stream",
     "text": [
      "[[37564  2294     4     1     0]\n",
      " [ 2516  6923    54  5286     2]\n",
      " [11210   227   471  4054    10]\n",
      " [  148 34250     2   252     0]\n",
      " [15905  2233   464  2063    40]]\n"
     ]
    }
   ],
   "source": [
    "cont = contingency_matrix(clusters,Y)\n",
    "print(cont)"
   ]
  },
  {
   "cell_type": "code",
   "execution_count": 41,
   "metadata": {},
   "outputs": [
    {
     "name": "stdout",
     "output_type": "stream",
     "text": [
      "0.8402752970874712\n"
     ]
    }
   ],
   "source": [
    "ans = 0\n",
    "for i in cont:\n",
    "    ans = ans + max(i)\n",
    "purity = ans/len(df)\n",
    "print(purity)"
   ]
  }
 ],
 "metadata": {
  "kernelspec": {
   "display_name": "Python 3",
   "language": "python",
   "name": "python3"
  },
  "language_info": {
   "codemirror_mode": {
    "name": "ipython",
    "version": 3
   },
   "file_extension": ".py",
   "mimetype": "text/x-python",
   "name": "python",
   "nbconvert_exporter": "python",
   "pygments_lexer": "ipython3",
   "version": "3.6.7"
  }
 },
 "nbformat": 4,
 "nbformat_minor": 2
}
